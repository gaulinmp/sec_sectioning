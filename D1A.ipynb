{
 "cells": [
  {
   "cell_type": "code",
   "execution_count": 2,
   "metadata": {
    "ExecuteTime": {
     "end_time": "2017-03-02T12:18:36.102724",
     "start_time": "2017-03-02T12:18:36.098962"
    },
    "collapsed": true
   },
   "outputs": [],
   "source": [
    "import os"
   ]
  },
  {
   "cell_type": "code",
   "execution_count": 3,
   "metadata": {
    "ExecuteTime": {
     "end_time": "2017-03-02T12:18:36.349854",
     "start_time": "2017-03-02T12:18:36.308483"
    }
   },
   "outputs": [],
   "source": [
    "SHARED_DATA_ROOT = os.path.expanduser('~/Dropbox/Documents/School/_data/big/')\n",
    "FIG_OUTPUT_DIR = os.path.expanduser('~/Dropbox/Documents/School/Dissertation/2_RiskFactors/outputs/')\n",
    "PROJECT_DATA_ROOT = os.path.expanduser('~/Dropbox/Documents/School/Dissertation/2_RiskFactors/data/')\n",
    "DATA_ROOT = '/data/D1A/'\n",
    "IDX_ROOT = '/data/storage/edgar/indices/'\n",
    "FEED_ROOT = '/data/storage/edgar/feeds/'\n",
    "\n",
    "CHECK = '\\u2713'\n",
    "CIKACC = 'cik accession'.split()\n",
    "\n",
    "def savefig(name, fig, *args, **kwargs):\n",
    "    fig.savefig(os.path.join(FIG_OUTPUT_DIR, '{}.png'.format(name)),\n",
    "                bbox_inches='tight', pad_inches=0.1, transparent=True, *args, **kwargs)\n",
    "    \n",
    "def linkhead(df, n=5, fields=None):    \n",
    "    w = pd.get_option('display.max_colwidth')\n",
    "    pd.set_option('display.max_colwidth', -1)\n",
    "    \n",
    "    if fields is None:\n",
    "        fields = list(df.columns)\n",
    "    dfn = df.head(n).copy()\n",
    "    dfn['cik'] = dfn['cik'].astype(int)\n",
    "    dfn['links'] = dfn.apply(lambda row: edgarweb.edgar_links(row), axis=1)\n",
    "    html = dfn[fields + ['links',]].to_html(escape=False, index=False, na_rep=\"\")\n",
    "\n",
    "    display_html(html, raw=True)\n",
    "    pd.set_option('display.max_colwidth', w)\n",
    "    #return html"
   ]
  },
  {
   "cell_type": "code",
   "execution_count": 5,
   "metadata": {
    "ExecuteTime": {
     "end_time": "2017-03-02T12:18:42.679250",
     "start_time": "2017-03-02T12:18:42.380754"
    }
   },
   "outputs": [],
   "source": [
    "from io import BytesIO\n",
    "from zipfile import ZipFile\n",
    "import requests\n",
    "\n",
    "def download_ffind_zip(ind_num):\n",
    "    zip_url = ('http://mba.tuck.dartmouth.edu/pages/faculty/ken.french/ftp/Siccodes{}.zip'\n",
    "               .format(ind_num))\n",
    "            \n",
    "    data = requests.get(zip_url)\n",
    "    zipfile = ZipFile(BytesIO(data.content))\n",
    "    return zipfile.open('Siccodes{}.txt'.format(ind_num)).read().decode()\n",
    "\n",
    "def get_ffind_df(ind_num):\n",
    "    if ind_num not in [5, 10, 12, 17, 30, 38, 48, 49]:\n",
    "        raise ValueError('Industry number must be one of {} not {}.'\n",
    "                         .format([5, 10, 12, 17, 30, 38, 48, 49], ind_num))\n",
    "\n",
    "    re_nameline = re.compile(r'^\\s*(?P<ff{0}>\\d\\d?)\\s+(?P<ff{0}_name>[a-z]+)\\s+(?P<detail>.+)\\s*$'\n",
    "                             .format(ind_num), re.I|re.M)\n",
    "    re_rangeline = re.compile(r'^\\s*(?P<sicfrom>\\d{3,4})-(?P<sicto>\\d{3,4})(?P<notes>\\s+.+)?\\s*$', re.I|re.M)\n",
    "    data = download_ffind_zip(ind_num)\n",
    "    # init to 'other'\n",
    "    try:\n",
    "        current_ind = [_.groupdict() for _ in re_nameline.finditer(data) \n",
    "                       if _.group('ff{0}_name'.format(ind_num)).lower() == 'other'][0]\n",
    "    except IndexError:\n",
    "        current_ind = {'ff{0}'.format(ind_num):ind_num, \n",
    "                       'ff{0}_name'.format(ind_num):'Other', \n",
    "                       'detail':''}\n",
    "    vals = {i:current_ind for i in range(10000)}\n",
    "    for line in data.split('\\n'):\n",
    "        match = re_nameline.search(line.strip())\n",
    "        if match:\n",
    "            current_ind = match.groupdict()\n",
    "            continue\n",
    "        match = re_rangeline.search(line.strip())\n",
    "        if not match:\n",
    "            continue\n",
    "        match = match.groupdict()\n",
    "        sicfrom,sicto = int(match['sicfrom']), int(match['sicto'])\n",
    "        for i in range(sicfrom, sicto+1):\n",
    "            vals[i] = current_ind\n",
    "    df = pd.DataFrame.from_dict(vals, orient='index')\n",
    "    df.index.name = 'sic'\n",
    "    df['ff{0}'.format(ind_num)] = df['ff{0}'.format(ind_num)].astype(int)\n",
    "    return df.reset_index()"
   ]
  },
  {
   "cell_type": "code",
   "execution_count": 5,
   "metadata": {
    "ExecuteTime": {
     "end_time": "2017-03-02T12:16:04.828537",
     "start_time": "2017-03-02T12:16:04.811624"
    },
    "collapsed": true
   },
   "outputs": [],
   "source": [
    "def yrhist(sr, ylabN=4):\n",
    "    sns.set_style('darkgrid')\n",
    "    sns.set_context('talk')\n",
    "    _d = sr.sort_values()\n",
    "    try:\n",
    "        _d = _d.dt.year\n",
    "    except:\n",
    "        pass\n",
    "    _g = _d.value_counts()\n",
    "    plt.figure(figsize=(13,2))\n",
    "    ax = plt.gca()\n",
    "    plt.bar(_g.index, _g, width=1)\n",
    "    \n",
    "    # Format\n",
    "    tene = math.log10(_g.max())//1-1\n",
    "    topnum = math.ceil(_g.max() / 10**tene)\n",
    "    \n",
    "    ax.set_xlim(left=_g.index.min(), right=_g.index.max()+1)\n",
    "    _t = np.arange(_g.index.min(), _g.index.max()+1)\n",
    "    plt.xticks([i+.5 for i in _t], list(map(str,_t)), rotation='vertical')\n",
    "    ax.set_yticks([(topnum * i // ylabN)*10**tene for i in range(ylabN, 0, -1)])"
   ]
  }
 ],
 "metadata": {
  "anaconda-cloud": {},
  "kernelspec": {
   "display_name": "Python 3",
   "language": "python",
   "name": "python3"
  },
  "language_info": {
   "codemirror_mode": {
    "name": "ipython",
    "version": 3
   },
   "file_extension": ".py",
   "mimetype": "text/x-python",
   "name": "python",
   "nbconvert_exporter": "python",
   "pygments_lexer": "ipython3",
   "version": "3.6.1"
  }
 },
 "nbformat": 4,
 "nbformat_minor": 1
}
