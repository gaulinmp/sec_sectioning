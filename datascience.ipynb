{
 "cells": [
  {
   "cell_type": "code",
   "execution_count": 15,
   "metadata": {
    "ExecuteTime": {
     "end_time": "2017-09-27T20:55:52.111105Z",
     "start_time": "2017-09-27T20:55:52.074926Z"
    }
   },
   "outputs": [],
   "source": [
    "try:\n",
    "    import pandas as pd\n",
    "    from pyedgar.utilities import edgarweb\n",
    "except ModuleNotFoundError:\n",
    "    print(\"Warning, pyedgar not found.\")\n",
    "    class _o_(object):\n",
    "        def edgar_links(*args, **kwargs):\n",
    "            return ''\n",
    "    edgarweb = _o_()\n",
    "\n",
    "print(\"linkhead(df, n=5, fields=None)\")\n",
    "def linkhead(df, n=5, fields=None):\n",
    "    \"\"\"\n",
    "    Displays top rows of a dataframe, and includes\n",
    "    links to the HTML and FTP websites if CIK and Accession are found.\n",
    "    \"\"\"\n",
    "    w = pd.get_option('display.max_colwidth')\n",
    "    pd.set_option('display.max_colwidth', -1)\n",
    "    \n",
    "    if fields is None:\n",
    "        fields = list(df.columns)\n",
    "    \n",
    "    dfn = df.head(n).copy()\n",
    "    \n",
    "    if 'cik' in df.columns:\n",
    "        dfn['cik'] = dfn['cik'].astype(int)\n",
    "        dfn['links'] = dfn.apply(lambda row: edgarweb.edgar_links(row), axis=1)\n",
    "        fields.append('links')\n",
    "    \n",
    "    html = dfn[fields].to_html(escape=False, index=False, na_rep=\"\")\n",
    "    \n",
    "    display_html(html, raw=True)\n",
    "    pd.set_option('display.max_colwidth', w)\n",
    "    #return html"
   ]
  },
  {
   "cell_type": "code",
   "execution_count": null,
   "metadata": {
    "collapsed": true
   },
   "outputs": [],
   "source": [
    "import seaborn as sns\n",
    "import matplotlib.pyplot as plt\n",
    "\n",
    "print(\"timehist(dtseries_or_df, time_variable='year', y_tic_number=4, x_tic_skip=0)\")\n",
    "def timehist(dtseries_or_df, time_variable='year', y_tic_number=4, x_tic_skip=0):\n",
    "    \"\"\"\n",
    "    Historgam of observations per time period\n",
    "    \"\"\"\n",
    "    x_tic_skip += 1\n",
    "    sns.set_style('darkgrid')\n",
    "    sns.set_context('talk')\n",
    "    _d = dtseries_or_df\n",
    "    try:\n",
    "        _d = _d.dt.__getattribute__(time_variable)\n",
    "    except:\n",
    "        try:\n",
    "            _d = _d[time_variable]\n",
    "        except:\n",
    "            pass\n",
    "    _g = _d.value_counts().sort_index()\n",
    "    if len(_g) > 1000:\n",
    "        logger.error(\"ERROR: You are trying to plot something with too many levels. Don't do that.\")\n",
    "        return \n",
    "    \n",
    "    plt.figure(figsize=(13,2))\n",
    "    ax = plt.gca()\n",
    "    plt.bar(_g.index, _g, width=.9)\n",
    "    \n",
    "    # Format and label X axis\n",
    "    ax.set_xlim(left=_g.index.min()-0.5, right=_g.index.max()+0.5)\n",
    "    _t = _g.index[::x_tic_skip]\n",
    "    plt.xticks(_t, map(str, _t), rotation='vertical')\n",
    "    \n",
    "    # Label Y Axis\n",
    "    tene = math.log10(_g.max())//1-1\n",
    "    topnum = math.ceil(_g.max() / 10**tene)\n",
    "    ax.set_yticks([(topnum * i // y_tic_number)*10**tene for i in range(y_tic_number, 0, -1)])"
   ]
  }
 ],
 "metadata": {
  "kernelspec": {
   "display_name": "Python 3",
   "language": "python",
   "name": "python3"
  },
  "language_info": {
   "codemirror_mode": {
    "name": "ipython",
    "version": 3
   },
   "file_extension": ".py",
   "mimetype": "text/x-python",
   "name": "python",
   "nbconvert_exporter": "python",
   "pygments_lexer": "ipython3",
   "version": "3.6.1"
  }
 },
 "nbformat": 4,
 "nbformat_minor": 2
}
