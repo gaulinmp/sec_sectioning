{
 "cells": [
  {
   "cell_type": "markdown",
   "metadata": {
    "collapsed": true
   },
   "source": [
    "from IPython.parallel import Client\n",
    "IP_client = Client()\n",
    "IP_view = IP_client.load_balanced_view()"
   ]
  },
  {
   "cell_type": "code",
   "execution_count": 1,
   "metadata": {
    "ExecuteTime": {
     "end_time": "2016-07-23T15:56:42.855514",
     "start_time": "2016-07-23T15:56:40.466958"
    },
    "collapsed": false
   },
   "outputs": [
    {
     "name": "stdout",
     "output_type": "stream",
     "text": [
      "IPython: 4.2.0\n",
      "run add_http_logger(submitter=None, project_id=None, level=logging.ERROR) for http logging.\n",
      "Numpy: 1.11.0\n",
      "Scipy: 0.17.0\n",
      "Pandas: 0.18.0\n",
      "MatPlotLib: 1.5.1\n",
      "Seaborn: 0.7.0\n",
      "Scikit-Learn: 0.17.1\n",
      "Statsmodels: 0.6.1\n",
      "Patsy: 0.4.0\n",
      "Gensim: 0.12.4\n"
     ]
    },
    {
     "data": {
      "application/javascript": [
       "IPython.notebook.kernel.execute(\n",
       "                'from IPython import get_ipython;get_ipython().has_js=True');"
      ]
     },
     "metadata": {},
     "output_type": "display_data"
    }
   ],
   "source": [
    "# Import \n",
    "%run header.ipynb\n",
    "%run datascience.ipynb\n",
    "%run D1A.ipynb\n",
    "%matplotlib inline\n",
    "\n",
    "import shutil\n",
    "from bs4 import BeautifulSoup\n",
    "\n",
    "from pyedgar.utilities import plaintext\n",
    "from pyedgar.utilities import forms\n",
    "from pyedgar.utilities import edgarweb\n",
    "from pyedgar.utilities import localstore\n",
    "from pyedgar.utilities import htmlparse\n",
    "from pyedgar.exceptions import *\n",
    "\n",
    "os.chdir(FEED_ROOT)"
   ]
  },
  {
   "cell_type": "markdown",
   "metadata": {},
   "source": [
    "# Load 10-Q list"
   ]
  },
  {
   "cell_type": "code",
   "execution_count": null,
   "metadata": {
    "ExecuteTime": {
     "end_time": "2016-07-24T15:18:40.657135",
     "start_time": "2016-07-24T15:18:40.597083"
    },
    "collapsed": true
   },
   "outputs": [],
   "source": [
    "ROOT = {c:os.path.join(DATA_ROOT, c+'1A') for c in 'K Q'.split()}\n",
    "FORM = 'Q'\n",
    "FILENAME_TMPLT = os.path.join(DATA_ROOT, 'blobs.{}.{:%Y-%m-%d}.csv')\n",
    "FILENAME_TMP = lambda: FILENAME_TMPLT.format(FORM.lower(), dt.date.today())"
   ]
  },
  {
   "cell_type": "code",
   "execution_count": 3,
   "metadata": {
    "ExecuteTime": {
     "end_time": "2016-07-23T16:09:06.463982",
     "start_time": "2016-07-23T16:09:05.039725"
    },
    "collapsed": false
   },
   "outputs": [
    {
     "name": "stdout",
     "output_type": "stream",
     "text": [
      "369656 351967 2016-05-20 00:00:00\n"
     ]
    },
    {
     "data": {
      "text/html": [
       "<table border=\"1\" class=\"dataframe\">\n",
       "  <thead>\n",
       "    <tr style=\"text-align: right;\">\n",
       "      <th>cik</th>\n",
       "      <th>name</th>\n",
       "      <th>form</th>\n",
       "      <th>filedate</th>\n",
       "      <th>accession</th>\n",
       "      <th>period</th>\n",
       "      <th>sic</th>\n",
       "      <th>ff12_name</th>\n",
       "      <th>ff12</th>\n",
       "      <th>ff48</th>\n",
       "      <th>ff48_name</th>\n",
       "      <th>links</th>\n",
       "    </tr>\n",
       "  </thead>\n",
       "  <tbody>\n",
       "    <tr>\n",
       "      <td>20</td>\n",
       "      <td>K TRON INTERNATIONAL INC</td>\n",
       "      <td>10-K</td>\n",
       "      <td>2005-03-31</td>\n",
       "      <td>0000893220-05-000728</td>\n",
       "      <td>2005-01-01</td>\n",
       "      <td>3823</td>\n",
       "      <td>BusEq</td>\n",
       "      <td>6</td>\n",
       "      <td>37</td>\n",
       "      <td>LabEq</td>\n",
       "      <td><a href='ftp://ftp.sec.gov/edgar/data/20/0000893220-05-000728.txt' target=_blank>FTP</a><a href='http://www.sec.gov/Archives/edgar/data/20/0000893220-05-000728-index.htm' target=_blank>HTML</a></td>\n",
       "    </tr>\n",
       "    <tr>\n",
       "      <td>20</td>\n",
       "      <td>K TRON INTERNATIONAL INC</td>\n",
       "      <td>10-Q</td>\n",
       "      <td>2005-05-05</td>\n",
       "      <td>0000893220-05-001038</td>\n",
       "      <td>2005-04-02</td>\n",
       "      <td>3823</td>\n",
       "      <td>BusEq</td>\n",
       "      <td>6</td>\n",
       "      <td>37</td>\n",
       "      <td>LabEq</td>\n",
       "      <td><a href='ftp://ftp.sec.gov/edgar/data/20/0000893220-05-001038.txt' target=_blank>FTP</a><a href='http://www.sec.gov/Archives/edgar/data/20/0000893220-05-001038-index.htm' target=_blank>HTML</a></td>\n",
       "    </tr>\n",
       "    <tr>\n",
       "      <td>20</td>\n",
       "      <td>K TRON INTERNATIONAL INC</td>\n",
       "      <td>10-Q</td>\n",
       "      <td>2005-08-03</td>\n",
       "      <td>0000893220-05-001794</td>\n",
       "      <td>2005-07-02</td>\n",
       "      <td>3823</td>\n",
       "      <td>BusEq</td>\n",
       "      <td>6</td>\n",
       "      <td>37</td>\n",
       "      <td>LabEq</td>\n",
       "      <td><a href='ftp://ftp.sec.gov/edgar/data/20/0000893220-05-001794.txt' target=_blank>FTP</a><a href='http://www.sec.gov/Archives/edgar/data/20/0000893220-05-001794-index.htm' target=_blank>HTML</a></td>\n",
       "    </tr>\n",
       "    <tr>\n",
       "      <td>20</td>\n",
       "      <td>K TRON INTERNATIONAL INC</td>\n",
       "      <td>10-Q</td>\n",
       "      <td>2005-10-31</td>\n",
       "      <td>0000893220-05-002440</td>\n",
       "      <td>2005-10-01</td>\n",
       "      <td>3823</td>\n",
       "      <td>BusEq</td>\n",
       "      <td>6</td>\n",
       "      <td>37</td>\n",
       "      <td>LabEq</td>\n",
       "      <td><a href='ftp://ftp.sec.gov/edgar/data/20/0000893220-05-002440.txt' target=_blank>FTP</a><a href='http://www.sec.gov/Archives/edgar/data/20/0000893220-05-002440-index.htm' target=_blank>HTML</a></td>\n",
       "    </tr>\n",
       "    <tr>\n",
       "      <td>20</td>\n",
       "      <td>K TRON INTERNATIONAL INC</td>\n",
       "      <td>10-K</td>\n",
       "      <td>2006-03-23</td>\n",
       "      <td>0000893220-06-000650</td>\n",
       "      <td>2005-12-31</td>\n",
       "      <td>3823</td>\n",
       "      <td>BusEq</td>\n",
       "      <td>6</td>\n",
       "      <td>37</td>\n",
       "      <td>LabEq</td>\n",
       "      <td><a href='ftp://ftp.sec.gov/edgar/data/20/0000893220-06-000650.txt' target=_blank>FTP</a><a href='http://www.sec.gov/Archives/edgar/data/20/0000893220-06-000650-index.htm' target=_blank>HTML</a></td>\n",
       "    </tr>\n",
       "  </tbody>\n",
       "</table>"
      ]
     },
     "metadata": {},
     "output_type": "display_data"
    }
   ],
   "source": [
    "tens = pd.read_csv(os.path.join(IDX_ROOT, 'form_10.periods.csv'))\n",
    "for c in 'filedate period'.split():\n",
    "    tens[c] = pd.to_datetime(tens[c])\n",
    "tens = tens[tens.filedate >= dt.date(2005,1,1)].sort_values('cik filedate'.split()).reset_index(drop=True)\n",
    "print(len(tens.cik), len(tens[tens.period.notnull()].cik), tens.filedate.max())\n",
    "linkhead(tens, n=1)"
   ]
  },
  {
   "cell_type": "code",
   "execution_count": 4,
   "metadata": {
    "ExecuteTime": {
     "end_time": "2016-07-23T16:09:23.416663",
     "start_time": "2016-07-23T16:09:23.078680"
    },
    "collapsed": false
   },
   "outputs": [
    {
     "data": {
      "text/plain": [
       "<matplotlib.axes._subplots.AxesSubplot at 0x7fcdf1553fd0>"
      ]
     },
     "execution_count": 4,
     "metadata": {},
     "output_type": "execute_result"
    },
    {
     "data": {
      "image/png": "[encoded data removed]",
      "text/plain": [
       "<matplotlib.figure.Figure at 0x7fce2c509128>"
      ]
     },
     "metadata": {},
     "output_type": "display_data"
    }
   ],
   "source": [
    "tens.filedate.hist(bins=40)"
   ]
  },
  {
   "cell_type": "code",
   "execution_count": 5,
   "metadata": {
    "ExecuteTime": {
     "end_time": "2016-07-23T16:09:35.181718",
     "start_time": "2016-07-23T16:09:34.480712"
    },
    "collapsed": false
   },
   "outputs": [
    {
     "name": "stdout",
     "output_type": "stream",
     "text": [
      "246885\n"
     ]
    },
    {
     "data": {
      "text/plain": [
       "<matplotlib.axes._subplots.AxesSubplot at 0x7fcdf230cb00>"
      ]
     },
     "execution_count": 5,
     "metadata": {},
     "output_type": "execute_result"
    },
    {
     "data": {
      "image/png": "[encoded data removed]",
      "text/plain": [
       "<matplotlib.figure.Figure at 0x7fcdf1857898>"
      ]
     },
     "metadata": {},
     "output_type": "display_data"
    }
   ],
   "source": [
    "_ = tens[(tens.form.str.contains('Q'))\n",
    "         &(tens.period <= tens.filedate) \n",
    "         &(abs((tens.period - tens.filedate)/TD_DAY)<90)]\n",
    "print(len(_))\n",
    "((_.filedate - _.period) / TD_DAY).hist(bins=90)"
   ]
  },
  {
   "cell_type": "markdown",
   "metadata": {},
   "source": [
    "# Load 10-K/Q dataframes"
   ]
  },
  {
   "cell_type": "code",
   "execution_count": null,
   "metadata": {
    "collapsed": true
   },
   "outputs": [],
   "source": [
    "existing_files = [os.path.basename(f) for f in localstore.walk_files(ROOT[FORM])]\n",
    "df_files = pd.DataFrame([x[:-5].split('_') + [x] for x in existing_files],\n",
    "                        columns='cik fdate accession path'.split())\n",
    "df_files['cik'] = df_files.cik.astype(int)\n",
    "del df_files['fdate']\n",
    "linkhead(df_files, n=1)"
   ]
  },
  {
   "cell_type": "code",
   "execution_count": 16,
   "metadata": {
    "ExecuteTime": {
     "end_time": "2016-07-23T17:26:54.399258",
     "start_time": "2016-07-23T17:26:52.550563"
    },
    "collapsed": false
   },
   "outputs": [
    {
     "name": "stdout",
     "output_type": "stream",
     "text": [
      "# of 10-Qs to search: 267674\n",
      "# of filtered 10-Qs to search: 158212\n"
     ]
    },
    {
     "data": {
      "text/html": [
       "<table border=\"1\" class=\"dataframe\">\n",
       "  <thead>\n",
       "    <tr style=\"text-align: right;\">\n",
       "      <th>cik</th>\n",
       "      <th>name</th>\n",
       "      <th>form</th>\n",
       "      <th>filedate</th>\n",
       "      <th>accession</th>\n",
       "      <th>period</th>\n",
       "      <th>sic</th>\n",
       "      <th>ff12_name</th>\n",
       "      <th>ff12</th>\n",
       "      <th>ff48</th>\n",
       "      <th>ff48_name</th>\n",
       "      <th>starts</th>\n",
       "      <th>ends</th>\n",
       "      <th>links</th>\n",
       "    </tr>\n",
       "  </thead>\n",
       "  <tbody>\n",
       "    <tr>\n",
       "      <td>1750</td>\n",
       "      <td>AAR CORP</td>\n",
       "      <td>10-Q</td>\n",
       "      <td>2005-01-05</td>\n",
       "      <td>0001104659-05-000400</td>\n",
       "      <td>2004-11-30</td>\n",
       "      <td>3720</td>\n",
       "      <td>Manuf</td>\n",
       "      <td>3</td>\n",
       "      <td>24</td>\n",
       "      <td>Aero</td>\n",
       "      <td>0</td>\n",
       "      <td>0</td>\n",
       "      <td><a href='ftp://ftp.sec.gov/edgar/data/1750/0001104659-05-000400.txt' target=_blank>FTP</a><a href='http://www.sec.gov/Archives/edgar/data/1750/0001104659-05-000400-index.htm' target=_blank>HTML</a></td>\n",
       "    </tr>\n",
       "    <tr>\n",
       "      <td>1750</td>\n",
       "      <td>AAR CORP</td>\n",
       "      <td>10-Q</td>\n",
       "      <td>2005-04-06</td>\n",
       "      <td>0001104659-05-015316</td>\n",
       "      <td>2005-02-28</td>\n",
       "      <td>3720</td>\n",
       "      <td>Manuf</td>\n",
       "      <td>3</td>\n",
       "      <td>24</td>\n",
       "      <td>Aero</td>\n",
       "      <td>0</td>\n",
       "      <td>0</td>\n",
       "      <td><a href='ftp://ftp.sec.gov/edgar/data/1750/0001104659-05-015316.txt' target=_blank>FTP</a><a href='http://www.sec.gov/Archives/edgar/data/1750/0001104659-05-015316-index.htm' target=_blank>HTML</a></td>\n",
       "    </tr>\n",
       "  </tbody>\n",
       "</table>"
      ]
     },
     "metadata": {},
     "output_type": "display_data"
    },
    {
     "name": "stdout",
     "output_type": "stream",
     "text": [
      "10s: 369656\n",
      "Qs:  158212 (43%)\n",
      "Found: 98169 (62%)\n",
      "Missing: 60043 (38%)\n"
     ]
    }
   ],
   "source": [
    "df = tens[tens.form.str.contains(FORM)].copy()\n",
    "df = df.merge(pd.read_csv(os.path.join(DATA_ROOT, 'blobs.{}.csv'.format(FORM.lower())),\n",
    "                          usecols='cik accession starts ends'.split()),\n",
    "              on='cik accession'.split(), how='outer', suffixes=('', '_old'))\n",
    "df = df.merge(df_files, on='cik accession'.split(), how='left')\n",
    "df.ix[df.path.isnull(), 'starts ends'.split()] = np.nan\n",
    "print(\"# of 10-Qs to search:\", len(df))\n",
    "\n",
    "if os.path.exists(os.path.join(DATA_ROOT, 'all_data_merge.csv')):\n",
    "    _tmpdf = pd.read_csv(os.path.join(DATA_ROOT, 'all_data_merge.csv'),\n",
    "                         usecols='gvkey cik permno num_headers atq mcap'.split())\n",
    "    _sel = _tmpdf['gvkey cik permno'.split()].notnull().all(axis=1)\n",
    "    _sel = _tmpdf[_sel].cik.unique()\n",
    "    \n",
    "    df = df[df.cik.isin(_sel)]\n",
    "    print(\"# of filtered 10-Qs to search:\", len(df))\n",
    "\n",
    "linkhead(df[df.cik==1750], n=2)\n",
    "tmp = len(tens[tens.cik.isin(_sel)]), len(df), sum(df.starts>0)\n",
    "print(\"10s: {}\\nQs:  {} ({:2.0f}%)\\nFound: {} ({:2.0f}%)\\nMissing: {} ({:2.0f}%)\"\n",
    "      .format(tmp[0], tmp[1], tmp[1]/tmp[0]*100, \n",
    "              tmp[2], tmp[2]/tmp[1]*100, tmp[1]-tmp[2], (tmp[1]-tmp[2])/tmp[1]*100))"
   ]
  },
  {
   "cell_type": "code",
   "execution_count": null,
   "metadata": {
    "collapsed": true
   },
   "outputs": [],
   "source": [
    "existing_files = [os.path.basename(f) for f in localstore.walk_files('/data/D1A/Q1A/')]\n",
    "df_files = pd.DataFrame([x[:-5].split('_') + [x] for x in existing_files],\n",
    "                        columns='cik fdate accession path'.split())\n",
    "df_files['cik'] = df_files.cik.astype(int)\n",
    "del df_files['fdate']\n",
    "linkhead(df_files)"
   ]
  },
  {
   "cell_type": "markdown",
   "metadata": {},
   "source": [
    "# Iterate and search 10-Ks"
   ]
  },
  {
   "cell_type": "code",
   "execution_count": 17,
   "metadata": {
    "ExecuteTime": {
     "end_time": "2016-07-23T17:28:01.411741",
     "start_time": "2016-07-23T17:28:01.398446"
    },
    "collapsed": true
   },
   "outputs": [],
   "source": [
    "# This searches through HTML, so include anything inside <>s as nothing\n",
    "RE_item = re.compile('^(?:\\s|</?[a-z][^>]*>|&nbsp;)*'\n",
    "                     'item[^a-z0-9]*(\\d+[\\sAB]*)', re.I)\n",
    "\n",
    "RE_1A = re.compile('^[^a-z0-9\\r\\n]*item[^a-z0-9]*1A[^a-z]*risk[^a-z]*factors?', re.I)\n",
    "RE_next = re.compile('^[^a-z0-9\\r\\n]*item[^a-z0-9]*(1B|[2-90]+A?)', re.I)"
   ]
  },
  {
   "cell_type": "code",
   "execution_count": 18,
   "metadata": {
    "ExecuteTime": {
     "end_time": "2016-07-23T17:34:47.085792",
     "start_time": "2016-07-23T17:34:47.075564"
    },
    "collapsed": true
   },
   "outputs": [],
   "source": [
    "RE_item = re.compile('^(?:\\s|</?[a-z][^>]*>|&nbsp;)*'\n",
    "                     'item[^a-z0-9]*(\\d+[\\sAB]*)', re.I)\n",
    "\n",
    "RE_1A = re.compile('^[^a-z0-9]*item[^a-z0-9]*1A[^a-z]*risk[^a-z]*factors?\\s*$', re.I)\n",
    "RE_next = re.compile('^[^a-z0-9\\r\\n]*item[^a-z0-9]*(1B|[2-90]+A?)', re.I)\n",
    "\n",
    "re_clean = lambda x: re.compile('[^a-z0-9]+', re.I).sub(' ', x)"
   ]
  },
  {
   "cell_type": "code",
   "execution_count": 19,
   "metadata": {
    "ExecuteTime": {
     "end_time": "2016-07-23T17:48:47.379192",
     "start_time": "2016-07-23T17:48:47.374443"
    },
    "collapsed": true
   },
   "outputs": [],
   "source": [
    "EMPH_TAGS = \"b strong h1 h2 h3 h4 h5 h6 u\".split()\n",
    "FACE_TAGS = \"p font div span li\".split()\n",
    "EMPH_STYLE = re.compile(r\"bold|underline\", re.I)\n",
    "DIVIDER_STYLES = 'h1 h2 h3 h4 h5 h6 p div ul ol tr table'.split()"
   ]
  },
  {
   "cell_type": "code",
   "execution_count": 20,
   "metadata": {
    "ExecuteTime": {
     "end_time": "2016-07-23T17:48:49.451667",
     "start_time": "2016-07-23T17:48:49.383225"
    },
    "code_folding": [
     0
    ],
    "collapsed": false
   },
   "outputs": [],
   "source": [
    "def find_items(soup, debug=False):\n",
    "    collect_1as = []\n",
    "    collect_next = []\n",
    "    for tag in soup.find_all(text=RE_item):\n",
    "        for parent_tag in tag.parents:\n",
    "            if parent_tag.name.lower() in EMPH_TAGS \\\n",
    "               or (parent_tag.name.lower() in FACE_TAGS\n",
    "                   and EMPH_STYLE.search(parent_tag.attrs.get('style', ''))):\n",
    "                if debug: print('Emphasized {!r}'.format(tag))\n",
    "                # Then ITEM is emphasized. Break and skip the continue below.\n",
    "                break\n",
    "        else: continue\n",
    "\n",
    "        temp_parent = None\n",
    "        for parent_tag in tag.parents:\n",
    "            if parent_tag.name.lower() in DIVIDER_STYLES:\n",
    "                if debug: print('Container {} for {!r}'.format(parent_tag.name, tag))\n",
    "                if temp_parent is None:\n",
    "                    temp_parent = parent_tag\n",
    "                elif parent_tag.name.lower() == 'tr':\n",
    "                    # If item is in table, then search whole row.\n",
    "                    trtxt = re_clean(parent_tag.get_text())\n",
    "                    if debug: print('Found {} but found tr: {!r}'\n",
    "                                    .format(temp_parent.name, trtxt))\n",
    "                    if RE_1A.search(trtxt):\n",
    "                        if debug: print('Found {} but matched 1A in tr {!r}'\n",
    "                                        .format(temp_parent.name, trtxt))\n",
    "                        temp_parent = parent_tag\n",
    "                    break\n",
    "            elif parent_tag.name.lower() == 'body':\n",
    "                break\n",
    "        parent_tag = temp_parent\n",
    "        \n",
    "        if parent_tag is None:\n",
    "            if debug: print(\"Parent tag wasn't container of {!r}\".format(tag))\n",
    "            continue\n",
    "\n",
    "        full_text = re_clean(parent_tag.get_text())\n",
    "        if debug: print(\"Full text of {!r} is {!r}\".format(tag, full_text))\n",
    "\n",
    "        if RE_1A.search(full_text):\n",
    "            collect_1as.append(parent_tag)\n",
    "            parent_tag.insert_before(soup.new_tag('STARTHERE'))\n",
    "            if debug: print(\"Inserted start before 1A: {}\".format(str(parent_tag)[:50]))\n",
    "        elif collect_1as and RE_next.search(full_text):\n",
    "            collect_next.append(parent_tag)\n",
    "            parent_tag.insert_after(soup.new_tag('ENDHERE'))\n",
    "            if debug: print(\"Inserted end after {}\".format(str(parent_tag)[:50]))\n",
    "            break\n",
    "    return collect_1as, collect_next"
   ]
  },
  {
   "cell_type": "code",
   "execution_count": 22,
   "metadata": {
    "ExecuteTime": {
     "end_time": "2016-07-23T17:49:03.587973",
     "start_time": "2016-07-23T17:49:03.584925"
    },
    "collapsed": false
   },
   "outputs": [],
   "source": [
    "OUT_FPATTERN = os.path.join(DATA_ROOT, 'Q1A/{cik:010d}_{filedate:%Y-%m-%d}_{accession}.html')"
   ]
  },
  {
   "cell_type": "code",
   "execution_count": 24,
   "metadata": {
    "ExecuteTime": {
     "end_time": "2016-07-23T17:50:19.062704",
     "start_time": "2016-07-23T17:50:19.037980"
    },
    "collapsed": false
   },
   "outputs": [
    {
     "data": {
      "text/html": [
       "<div>\n",
       "<table border=\"1\" class=\"dataframe\">\n",
       "  <thead>\n",
       "    <tr style=\"text-align: right;\">\n",
       "      <th></th>\n",
       "      <th>cik</th>\n",
       "      <th>name</th>\n",
       "      <th>form</th>\n",
       "      <th>filedate</th>\n",
       "      <th>accession</th>\n",
       "      <th>period</th>\n",
       "      <th>sic</th>\n",
       "      <th>ff12_name</th>\n",
       "      <th>ff12</th>\n",
       "      <th>ff48</th>\n",
       "      <th>ff48_name</th>\n",
       "      <th>starts</th>\n",
       "      <th>ends</th>\n",
       "    </tr>\n",
       "  </thead>\n",
       "  <tbody>\n",
       "    <tr>\n",
       "      <th>0</th>\n",
       "      <td>20</td>\n",
       "      <td>K TRON INTERNATIONAL INC</td>\n",
       "      <td>10-Q</td>\n",
       "      <td>2005-05-05</td>\n",
       "      <td>0000893220-05-001038</td>\n",
       "      <td>2005-04-02</td>\n",
       "      <td>3823</td>\n",
       "      <td>BusEq</td>\n",
       "      <td>6</td>\n",
       "      <td>37</td>\n",
       "      <td>LabEq</td>\n",
       "      <td>0</td>\n",
       "      <td>0</td>\n",
       "    </tr>\n",
       "  </tbody>\n",
       "</table>\n",
       "</div>"
      ],
      "text/plain": [
       "   cik                      name  form   filedate             accession  \\\n",
       "0   20  K TRON INTERNATIONAL INC  10-Q 2005-05-05  0000893220-05-001038   \n",
       "\n",
       "      period  sic ff12_name  ff12  ff48 ff48_name  starts  ends  \n",
       "0 2005-04-02 3823     BusEq     6    37     LabEq       0     0  "
      ]
     },
     "execution_count": 24,
     "metadata": {},
     "output_type": "execute_result"
    }
   ],
   "source": [
    "df.head(1)"
   ]
  },
  {
   "cell_type": "code",
   "execution_count": 84,
   "metadata": {
    "ExecuteTime": {
     "end_time": "2016-07-24T14:55:25.676044",
     "start_time": "2016-07-24T14:55:25.669298"
    },
    "code_folding": [
     0
    ],
    "collapsed": true
   },
   "outputs": [],
   "source": [
    "def res_to_df(results):\n",
    "    _df = (pd.DataFrame.from_dict(results, orient='index')\n",
    "              ['starts ends'.split()]\n",
    "              .reset_index())\n",
    "    _df['filename'] = _df['index'].apply(lambda x: x.split('/')[-1])\n",
    "    _df['cik'] = _df['filename'].apply(lambda x: int(x.split('_')[0]))\n",
    "    _df['accession'] = _df['filename'].apply(lambda x: x.split('_')[-1][:-5])\n",
    "    return _df"
   ]
  },
  {
   "cell_type": "code",
   "execution_count": 27,
   "metadata": {
    "ExecuteTime": {
     "end_time": "2016-07-23T17:55:30.255102",
     "start_time": "2016-07-23T17:55:30.239722"
    },
    "collapsed": true
   },
   "outputs": [],
   "source": [
    "BAD_STARTEND = [None,]*99\n",
    "tmpdf = df[~(df.starts > 0)]\n",
    "results = {}"
   ]
  },
  {
   "cell_type": "markdown",
   "metadata": {},
   "source": [
    "## Main Loop"
   ]
  },
  {
   "cell_type": "code",
   "execution_count": 40,
   "metadata": {
    "ExecuteTime": {
     "end_time": "2016-07-24T00:48:20.398835",
     "start_time": "2016-07-23T18:02:56.985457"
    },
    "code_folding": [
     47
    ],
    "collapsed": false
   },
   "outputs": [
    {
     "name": "stdout",
     "output_type": "stream",
     "text": [
      "\n"
     ]
    }
   ],
   "source": [
    "DEBUG = False\n",
    "\n",
    "try:\n",
    "    for i,row in tqdm(tmpdf.iterrows(), total=len(tmpdf)):\n",
    "        src_fname = localstore.get_filing_path(row.cik, row.accession)\n",
    "        if not os.path.exists(src_fname):\n",
    "            continue\n",
    "        \n",
    "        dest_fname = OUT_FPATTERN.format(**row)\n",
    "\n",
    "        if (os.path.exists(dest_fname)\n",
    "            or dest_fname in results):\n",
    "            continue\n",
    "            \n",
    "        results[dest_fname] = {}\n",
    "\n",
    "        try:\n",
    "            rtxt = forms.get_form(src_fname)\n",
    "        except EDGARFilingFormatError:\n",
    "            continue\n",
    "        if not htmlparse.RE_HTML_TAGS.findall(rtxt, 0, 500):\n",
    "            # Not HTML\n",
    "            continue\n",
    "\n",
    "        soup = BeautifulSoup(rtxt, 'lxml')\n",
    "\n",
    "        starts, ends = find_items(soup)\n",
    "        istart,iend = -1, -1\n",
    "\n",
    "        if len(starts) >= 1 and len(ends) == 1:\n",
    "            try:\n",
    "                prtxt = str(soup)\n",
    "            except RuntimeError:\n",
    "                # Some forms are so bad that beautiful soup craps out. Handle that here.\n",
    "                prtxt = ''\n",
    "                starts, ends = BAD_STARTEND, BAD_STARTEND\n",
    "\n",
    "            istart,iend = prtxt.find('<STARTHERE>'),prtxt.find('</ENDHERE>')\n",
    "\n",
    "            if istart > 0 and iend > 0:\n",
    "                onea = prtxt[istart:iend+len('</ENDHERE>')]\n",
    "\n",
    "                with open(dest_fname, 'w') as fh:\n",
    "                    fh.write(onea)\n",
    "        \n",
    "        results[dest_fname].update({'starts':len(starts), 'ends':len(ends)})\n",
    "        if DEBUG and i > 20: break\n",
    "finally:\n",
    "    res_to_df(results).to_csv(FILENAME_TEMPLATE.format(dt.datetime.today())+'.scrape', index=False)"
   ]
  },
  {
   "cell_type": "code",
   "execution_count": 80,
   "metadata": {
    "ExecuteTime": {
     "end_time": "2016-07-24T14:53:50.582358",
     "start_time": "2016-07-24T14:53:49.855529"
    },
    "code_folding": [
     0,
     9,
     24
    ],
    "collapsed": false
   },
   "outputs": [
    {
     "data": {
      "text/html": [
       "<div>\n",
       "<table border=\"1\" class=\"dataframe\">\n",
       "  <thead>\n",
       "    <tr style=\"text-align: right;\">\n",
       "      <th></th>\n",
       "      <th>cik</th>\n",
       "      <th>name</th>\n",
       "      <th>form</th>\n",
       "      <th>filedate</th>\n",
       "      <th>accession</th>\n",
       "      <th>period</th>\n",
       "      <th>sic</th>\n",
       "      <th>ff12_name</th>\n",
       "      <th>ff12</th>\n",
       "      <th>ff48</th>\n",
       "      <th>ff48_name</th>\n",
       "      <th>starts</th>\n",
       "      <th>ends</th>\n",
       "      <th>filename</th>\n",
       "    </tr>\n",
       "  </thead>\n",
       "  <tbody>\n",
       "    <tr>\n",
       "      <th>0</th>\n",
       "      <td>20</td>\n",
       "      <td>K TRON INTERNATIONAL INC</td>\n",
       "      <td>10-Q</td>\n",
       "      <td>2005-05-05</td>\n",
       "      <td>0000893220-05-001038</td>\n",
       "      <td>2005-04-02</td>\n",
       "      <td>3823</td>\n",
       "      <td>BusEq</td>\n",
       "      <td>6</td>\n",
       "      <td>37</td>\n",
       "      <td>LabEq</td>\n",
       "      <td>0</td>\n",
       "      <td>0</td>\n",
       "      <td>0000000020_2005-05-05_0000893220-05-001038.html</td>\n",
       "    </tr>\n",
       "  </tbody>\n",
       "</table>\n",
       "</div>"
      ],
      "text/plain": [
       "   cik                      name  form   filedate             accession  \\\n",
       "0   20  K TRON INTERNATIONAL INC  10-Q 2005-05-05  0000893220-05-001038   \n",
       "\n",
       "      period  sic ff12_name  ff12  ff48 ff48_name  starts  ends  \\\n",
       "0 2005-04-02 3823     BusEq     6    37     LabEq       0     0   \n",
       "\n",
       "                                          filename  \n",
       "0  0000000020_2005-05-05_0000893220-05-001038.html  "
      ]
     },
     "execution_count": 80,
     "metadata": {},
     "output_type": "execute_result"
    }
   ],
   "source": [
    "if \"Add results to DataFrame\":\n",
    "    df_new = res_to_df(results)\n",
    "    del df_new['index']\n",
    "\n",
    "    df_new = df.merge(df_new, on='cik accession'.split(), how='outer', suffixes=('', '_new'))\n",
    "    for c in 'starts ends'.split():\n",
    "        df_new[c] = df_new[[c, c+'_new']].max(axis=1)\n",
    "        del df_new[c+'_new']\n",
    "\n",
    "if \"Copy New Results to blobs (and backup old)\":\n",
    "    blob_fnam = os.path.join(DATA_ROOT, 'blobs.{}.csv'.format(FORM.lower()))\n",
    "\n",
    "    if os.path.exists(blob_fnam):\n",
    "        _t = dt.datetime.fromtimestamp(os.path.getmtime(blob_fnam))\n",
    "        backup_fnam = os.path.join(DATA_ROOT, \n",
    "                                   'blobs.{}.{:%Y-%m-%d}.csv'.format(FORM.lower(), _t))\n",
    "        if not os.path.exists(backup_fnam):\n",
    "            shutil.copy2(blob_fnam, backup_fnam)\n",
    "\n",
    "    (df_new['cik name form filedate accession period starts ends'.split()]\n",
    "            .to_csv(FILENAME_TMP(), index=False))\n",
    "    (df_new['cik name form filedate accession period starts ends'.split()]\n",
    "            .to_csv(blob_fnam, index=False))\n",
    "\n",
    "if \"Summarize\":\n",
    "    tmp = len(tens), len(df_new), sum(df_new.starts>0)\n",
    "    print(\"10s: {}\\nKs:  {} ({:2.0f}%)\\nFound: {} ({:2.0f}%)\\nMissing: {} ({:2.0f}%)\"\n",
    "          .format(tmp[0], tmp[1], tmp[1]/tmp[0]*100, \n",
    "                  tmp[2], tmp[2]/tmp[1]*100, tmp[1]-tmp[2], (tmp[1]-tmp[2])/tmp[1]*100))\n",
    "    linkhead(df_new, n=3)"
   ]
  },
  {
   "cell_type": "code",
   "execution_count": null,
   "metadata": {
    "collapsed": true
   },
   "outputs": [],
   "source": []
  },
  {
   "cell_type": "code",
   "execution_count": null,
   "metadata": {
    "collapsed": true
   },
   "outputs": [],
   "source": []
  },
  {
   "cell_type": "code",
   "execution_count": null,
   "metadata": {
    "collapsed": true
   },
   "outputs": [],
   "source": []
  },
  {
   "cell_type": "markdown",
   "metadata": {},
   "source": [
    "# Debugging one-runners"
   ]
  },
  {
   "cell_type": "code",
   "execution_count": 88,
   "metadata": {
    "ExecuteTime": {
     "end_time": "2016-07-24T15:07:37.903119",
     "start_time": "2016-07-24T15:07:37.899467"
    },
    "collapsed": false
   },
   "outputs": [
    {
     "data": {
      "text/plain": [
       "'/data/D1A/Q1A/0001660719_2016-05-10_0001558370-16-005753.html'"
      ]
     },
     "execution_count": 88,
     "metadata": {},
     "output_type": "execute_result"
    }
   ],
   "source": [
    "dest_fname"
   ]
  },
  {
   "cell_type": "code",
   "execution_count": 124,
   "metadata": {
    "collapsed": false
   },
   "outputs": [
    {
     "data": {
      "text/html": [
       "<table border=\"1\" class=\"dataframe\">\n",
       "  <thead>\n",
       "    <tr style=\"text-align: right;\">\n",
       "      <th>cik</th>\n",
       "      <th>name</th>\n",
       "      <th>form</th>\n",
       "      <th>filedate</th>\n",
       "      <th>accession</th>\n",
       "      <th>period</th>\n",
       "      <th>starts</th>\n",
       "      <th>ends</th>\n",
       "      <th>links</th>\n",
       "    </tr>\n",
       "  </thead>\n",
       "  <tbody>\n",
       "    <tr>\n",
       "      <td>1005817</td>\n",
       "      <td>TOMPKINS FINANCIAL CORP</td>\n",
       "      <td>10-Q</td>\n",
       "      <td>2008-05-12</td>\n",
       "      <td>0001019056-08-000614</td>\n",
       "      <td>2008-03-31</td>\n",
       "      <td></td>\n",
       "      <td></td>\n",
       "      <td><a href='ftp://ftp.sec.gov/edgar/data/1005817/0001019056-08-000614.txt' target=_blank>FTP</a><a href='http://www.sec.gov/Archives/edgar/data/1005817/0001019056-08-000614-index.htm' target=_blank>HTML</a></td>\n",
       "    </tr>\n",
       "  </tbody>\n",
       "</table>"
      ]
     },
     "metadata": {},
     "output_type": "display_data"
    },
    {
     "name": "stdout",
     "output_type": "stream",
     "text": [
      "/data/storage/edgar/feeds/00/01/00/58/17/0001019056-08-000614.txt\n",
      "/data/D1A/Q1A/0001005817_2008-05-12_0001019056-08-000614.html\n"
     ]
    }
   ],
   "source": [
    "_ = 1005817, '0001019056-08-000614'\n",
    "tmp = df[(df.cik == _[0]) & (df.accession == _[1])]\n",
    "linkhead(tmp)\n",
    "src_fname = localstore.get_filing_path(*_)\n",
    "dest_fname = OUT_FPATTERN_Q.format(**tmp.iloc[0].to_dict())\n",
    "\n",
    "print(src_fname)\n",
    "print(dest_fname)"
   ]
  },
  {
   "cell_type": "code",
   "execution_count": 125,
   "metadata": {
    "collapsed": true
   },
   "outputs": [],
   "source": [
    "rtxt = forms.get_form(src_fname)"
   ]
  },
  {
   "cell_type": "code",
   "execution_count": 126,
   "metadata": {
    "collapsed": false
   },
   "outputs": [
    {
     "data": {
      "text/plain": [
       "(597869, 159461)"
      ]
     },
     "execution_count": 126,
     "metadata": {},
     "output_type": "execute_result"
    }
   ],
   "source": [
    "txt = htmlparse.convert_html_to_text(rtxt)\n",
    "len(rtxt), len(txt)"
   ]
  },
  {
   "cell_type": "code",
   "execution_count": 127,
   "metadata": {
    "collapsed": true
   },
   "outputs": [],
   "source": [
    "soup = BeautifulSoup(rtxt, 'lxml')"
   ]
  },
  {
   "cell_type": "code",
   "execution_count": 161,
   "metadata": {
    "collapsed": true
   },
   "outputs": [],
   "source": [
    "RE_item = re.compile('^[^a-z0-9\\r\\n]*item[^a-z0-9]*(\\d+[\\sAB]*)', re.I)\n",
    "\n",
    "RE_1A = re.compile('^[^a-z0-9]*item[^a-z0-9]*1A[^a-z]*risk[^a-z]*factors?\\s*$', re.I)\n",
    "RE_next = re.compile('^[^a-z0-9\\r\\n]*item[^a-z0-9]*(1B|[2-90]+A?)', re.I)\n",
    "\n",
    "re_clean = lambda x: re.compile('[^a-z0-9]+', re.I).sub(' ', x)"
   ]
  },
  {
   "cell_type": "code",
   "execution_count": 123,
   "metadata": {
    "collapsed": false
   },
   "outputs": [
    {
     "name": "stdout",
     "output_type": "stream",
     "text": [
      "/data/D1A/Q1A/0000073088_2015-04-23_0000073088-15-000081.html\n"
     ]
    }
   ],
   "source": [
    "for file in localstore.walk_files('/data/D1A/Q1A/'):\n",
    "    with open(file) as fh:\n",
    "        txt = fh.read()\n",
    "    if not RE_1A.search(txt):\n",
    "        print(file)\n",
    "        break"
   ]
  },
  {
   "cell_type": "code",
   "execution_count": null,
   "metadata": {
    "collapsed": true
   },
   "outputs": [],
   "source": [
    "for tag in soup.find_all(text=RE_item):\n",
    "    print(tag)\n",
    "    emphasized_tag = False\n",
    "    for pnum, parent_tag in enumerate(tag.parents):\n",
    "        if pnum > 4: break\n",
    "        print('\\t-- ', str(parent_tag)[:50].replace('\\n', '\\\\n'))\n",
    "        if parent_tag.name.lower() in EMPH_TAGS:\n",
    "            print('Emphasized {}'.format(tag))\n",
    "            emphasized_tag = True\n",
    "        elif (parent_tag.name.lower() in FACE_TAGS and\n",
    "              EMPH_STYLE.search(parent_tag.attrs.get('style', ''))):\n",
    "            print('Emphasized {}'.format(tag))\n",
    "            emphasized_tag = True\n",
    "\n",
    "        if emphasized_tag: # Bold. Stop searching parents.\n",
    "            break"
   ]
  },
  {
   "cell_type": "code",
   "execution_count": 165,
   "metadata": {
    "collapsed": false
   },
   "outputs": [
    {
     "name": "stdout",
     "output_type": "stream",
     "text": [
      "Emphasized 'Item 1 -'\n",
      "Container p for 'Item 1 -'\n",
      "Container tr for 'Item 1 -'\n",
      "Found p but found tr: ' Item 1 Financial Statements Unaudited '\n",
      "Full text of 'p' is 'Item 1 -'\n",
      "Emphasized 'Item 2 -'\n",
      "Container p for 'Item 2 -'\n",
      "Container tr for 'Item 2 -'\n",
      "Found p but found tr: ' Item 2 Management s Discussion and Analysis of Financial Condition and Results of Operations 13 24 '\n",
      "Full text of 'p' is 'Item 2 -'\n",
      "Emphasized 'Item 3 -'\n",
      "Container p for 'Item 3 -'\n",
      "Container tr for 'Item 3 -'\n",
      "Found p but found tr: ' Item 3 Quantitative and Qualitative Disclosures about Market Risk 25 '\n",
      "Full text of 'p' is 'Item 3 -'\n",
      "Emphasized 'Item 4 -'\n",
      "Container p for 'Item 4 -'\n",
      "Container tr for 'Item 4 -'\n",
      "Found p but found tr: ' Item 4 Controls and Procedures 26 '\n",
      "Full text of 'p' is 'Item 4 -'\n",
      "Emphasized 'Item 1 \\x96'\n",
      "Container p for 'Item 1 \\x96'\n",
      "Container tr for 'Item 1 \\x96'\n",
      "Found p but found tr: ' Item 1 Legal Proceedings 27 '\n",
      "Full text of 'p' is 'Item 1 \\x96'\n",
      "Emphasized 'Item 1A \\x96 Risk Factors'\n",
      "Container p for 'Item 1A \\x96 Risk Factors'\n",
      "Container tr for 'Item 1A \\x96 Risk Factors'\n",
      "Found p but found tr: ' Item 1A Risk Factors 27 '\n",
      "Full text of 'p' is 'Item 1A \\x96 Risk Factors'\n",
      "Inserted start before 1A: <p><font size=\"2\"><b><a href=\"#A013\">Item 1A  Ris\n",
      "Emphasized 'Item 2 \\x96'\n",
      "Container p for 'Item 2 \\x96'\n",
      "Container tr for 'Item 2 \\x96'\n",
      "Found p but found tr: ' Item 2 Unregistered Sales of Equity Securities and Use of Proceeds 27 '\n",
      "Full text of 'p' is 'Item 2 \\x96'\n",
      "Inserted end after <p><font size=\"2\"><b><a href=\"#A014\">Item 2 </a><\n"
     ]
    }
   ],
   "source": [
    "debug = True\n",
    "if debug:\n",
    "    collect_1as = []\n",
    "    collect_next = []\n",
    "    for tag in soup.find_all(text=RE_item):\n",
    "        for parent_tag in tag.parents:\n",
    "            if parent_tag.name.lower() in EMPH_TAGS \\\n",
    "               or (parent_tag.name.lower() in FACE_TAGS\n",
    "                   and EMPH_STYLE.search(parent_tag.attrs.get('style', ''))):\n",
    "                if debug: print('Emphasized {!r}'.format(tag))\n",
    "                # Then ITEM is emphasized. Break and skip the continue below.\n",
    "                break\n",
    "        else: continue\n",
    "                \n",
    "        temp_parent = None\n",
    "        for parent_tag in tag.parents:\n",
    "            if parent_tag.name.lower() in DIVIDER_STYLES:\n",
    "                if debug: print('Container {} for {!r}'.format(parent_tag.name, tag))\n",
    "                if temp_parent is None:\n",
    "                    temp_parent = parent_tag\n",
    "                elif parent_tag.name.lower() == 'tr':\n",
    "                    trtxt = re_clean(parent_tag.get_text())\n",
    "                    if debug: print('Found {} but found tr: {!r}'\n",
    "                                    .format(temp_parent.name, trtxt))\n",
    "                    if RE_1A.search(trtxt):\n",
    "                        if debug: print('Found {} but matched 1A in tr {!r}'\n",
    "                                        .format(temp_parent.name, trtxt))\n",
    "                        temp_parent = parent_tag\n",
    "                    break\n",
    "            elif parent_tag.name.lower() == 'body':\n",
    "                break\n",
    "        parent_tag = temp_parent\n",
    "        \n",
    "        if parent_tag is None:\n",
    "            if debug: print(\"Parent tag wasn't container of {!r}\".format(tag))\n",
    "            continue\n",
    "\n",
    "        full_text = parent_tag.get_text().strip()\n",
    "        if debug: print(\"Full text of {!r} is {!r}\".format(parent_tag.name, full_text))\n",
    "\n",
    "        if RE_1A.search(full_text):\n",
    "            collect_1as.append(parent_tag)\n",
    "            parent_tag.insert_before(soup.new_tag('STARTHERE'))\n",
    "            if debug: print(\"Inserted start before 1A: {}\".format(str(parent_tag)[:50]))\n",
    "        elif collect_1as and RE_next.search(full_text):\n",
    "            collect_next.append(parent_tag)\n",
    "            parent_tag.insert_after(soup.new_tag('ENDHERE'))\n",
    "            if debug: print(\"Inserted end after {}\".format(str(parent_tag)[:50]))\n",
    "            break"
   ]
  },
  {
   "cell_type": "code",
   "execution_count": 129,
   "metadata": {
    "collapsed": false
   },
   "outputs": [
    {
     "name": "stdout",
     "output_type": "stream",
     "text": [
      "Emphasized 'Item 1 -'\n",
      "Container p for 'Item 1 -'\n",
      "Full text of 'Item 1 -' is 'Item 1 -'\n",
      "Emphasized 'Item 2 -'\n",
      "Container p for 'Item 2 -'\n",
      "Full text of 'Item 2 -' is 'Item 2 -'\n",
      "Emphasized 'Item 3 -'\n",
      "Container p for 'Item 3 -'\n",
      "Full text of 'Item 3 -' is 'Item 3 -'\n",
      "Emphasized 'Item 4 -'\n",
      "Container p for 'Item 4 -'\n",
      "Full text of 'Item 4 -' is 'Item 4 -'\n",
      "Emphasized 'Item 1 \\x96'\n",
      "Container p for 'Item 1 \\x96'\n",
      "Full text of 'Item 1 \\x96' is 'Item 1 \\x96'\n",
      "Emphasized 'Item 1A \\x96 Risk Factors'\n",
      "Container p for 'Item 1A \\x96 Risk Factors'\n",
      "Full text of 'Item 1A \\x96 Risk Factors' is 'Item 1A \\x96 Risk Factors'\n",
      "Emphasized 'Item 2 \\x96'\n",
      "Container p for 'Item 2 \\x96'\n",
      "Full text of 'Item 2 \\x96' is 'Item 2 \\x96'\n",
      "Emphasized 'Item 3 -'\n",
      "Container p for 'Item 3 -'\n",
      "Full text of 'Item 3 -' is 'Item 3 -'\n",
      "Emphasized 'Item 4 -'\n",
      "Container p for 'Item 4 -'\n",
      "Full text of 'Item 4 -' is 'Item 4 -'\n",
      "Emphasized 'Item 5 -'\n",
      "Container p for 'Item 5 -'\n",
      "Full text of 'Item 5 -' is 'Item 5 -'\n",
      "Emphasized 'Item 6 -'\n",
      "Container p for 'Item 6 -'\n",
      "Full text of 'Item 6 -' is 'Item 6 -'\n",
      "Emphasized 'Item 1.\\nFinancial Statements'\n",
      "Container p for 'Item 1.\\nFinancial Statements'\n",
      "Full text of 'Item 1.\\nFinancial Statements' is 'Item 1.\\nFinancial Statements'\n",
      "Emphasized 'Item 2.'\n",
      "Container p for 'Item 2.'\n",
      "Full text of 'Item 2.' is 'Item 2.'\n",
      "Emphasized 'Item 3.'\n",
      "Container p for 'Item 3.'\n",
      "Full text of 'Item 3.' is 'Item 3.'\n",
      "Emphasized 'Item 4.'\n",
      "Container p for 'Item 4.'\n",
      "Full text of 'Item 4.' is 'Item 4.'\n",
      "Emphasized 'Item 1.'\n",
      "Container p for 'Item 1.'\n",
      "Full text of 'Item 1.' is 'Item 1.'\n",
      "Emphasized 'Item 1A.'\n",
      "Container p for 'Item 1A.'\n",
      "Full text of 'Item 1A.' is 'Item 1A.'\n",
      "Emphasized 'Item 2.'\n",
      "Container p for 'Item 2.'\n",
      "Full text of 'Item 2.' is 'Item 2.'\n",
      "Emphasized 'Item 3.'\n",
      "Container p for 'Item 3.'\n",
      "Full text of 'Item 3.' is 'Item 3.'\n",
      "Emphasized 'Item 4.'\n",
      "Container p for 'Item 4.'\n",
      "Full text of 'Item 4.' is 'Item 4.'\n",
      "Emphasized 'Item 5.'\n",
      "Container p for 'Item 5.'\n",
      "Full text of 'Item 5.' is 'Item 5.'\n",
      "Emphasized 'Item 6.'\n",
      "Container p for 'Item 6.'\n",
      "Full text of 'Item 6.' is 'Item 6.'\n"
     ]
    },
    {
     "data": {
      "text/plain": [
       "(0, 0)"
      ]
     },
     "execution_count": 129,
     "metadata": {},
     "output_type": "execute_result"
    }
   ],
   "source": [
    "starts, ends = find_items(soup, debug=True)\n",
    "len(starts), len(ends)"
   ]
  },
  {
   "cell_type": "code",
   "execution_count": 95,
   "metadata": {
    "collapsed": true
   },
   "outputs": [],
   "source": [
    "try:\n",
    "    prtxt = str(soup)#.prettify()\n",
    "    istart = prtxt.find('<STARTHERE>')\n",
    "    iend = prtxt.find('</ENDHERE>', max(istart, 0))\n",
    "except RuntimeError:\n",
    "    starts, ends = [], []"
   ]
  },
  {
   "cell_type": "code",
   "execution_count": 96,
   "metadata": {
    "collapsed": false
   },
   "outputs": [],
   "source": [
    "if len(starts) >= 1 and len(ends) == 1 and istart > 0 and iend > 0:\n",
    "    onea = prtxt[istart:iend+len('</ENDHERE>')]"
   ]
  },
  {
   "cell_type": "code",
   "execution_count": 97,
   "metadata": {
    "collapsed": false
   },
   "outputs": [
    {
     "data": {
      "text/plain": [
       "(15846,\n",
       " 16600,\n",
       " '<STARTHERE></STARTHERE><STARTHERE></STARTHERE><STARTHERE></STARTHERE><p><font size=\"2\"><b><a href=\"#A013\">Item 1A \\x96 Risk Factors</a></b></font></p>\\n</td>\\n<td valign=\"BOTTOM\">\\n<p><font size=\"1\">\\xa0</font></p>\\n</td>\\n<td valign=\"BOTTOM\">\\n<p style=\"MARGIN-LEFT:8.65PT\"><font size=\"2\"><b>27</b></font></p>\\n</td>\\n</tr>\\n<tr>\\n<td valign=\"TOP\">\\n<p><font size=\"1\">\\xa0</font></p>\\n</td>\\n<td valign=\"TOP\">\\n<p><font size=\"1\">\\xa0</font></p>\\n</td>\\n<td valign=\"TOP\">\\n<p><font size=\"1\">\\xa0</font></p>\\n</td>\\n<td valign=\"BOTTOM\">\\n<p><font size=\"1\">\\xa0</font></p>\\n</td>\\n<td valign=\"BOTTOM\">\\n<p><font size=\"1\">\\xa0</font></p>\\n</td>\\n</tr>\\n<tr>\\n<td valign=\"TOP\">\\n<p><font size=\"1\">\\xa0</font></p>\\n</td>\\n<td valign=\"TOP\">\\n<p><font size=\"2\"><b><a href=\"#A014\">Item 2 \\x96</a></b></font></p><ENDHERE></ENDHERE>')"
      ]
     },
     "execution_count": 97,
     "metadata": {},
     "output_type": "execute_result"
    }
   ],
   "source": [
    "istart, iend, onea"
   ]
  },
  {
   "cell_type": "code",
   "execution_count": 121,
   "metadata": {
    "collapsed": false
   },
   "outputs": [
    {
     "data": {
      "text/html": [
       "<STARTHERE></STARTHERE><STARTHERE></STARTHERE><STARTHERE></STARTHERE><p><font size=\"2\"><b><a href=\"#A013\">Item 1A  Risk Factors</a></b></font></p>\n",
       "</td>\n",
       "<td valign=\"BOTTOM\">\n",
       "<p><font size=\"1\"> </font></p>\n",
       "</td>\n",
       "<td valign=\"BOTTOM\">\n",
       "<p style=\"MARGIN-LEFT:8.65PT\"><font size=\"2\"><b>27</b></font></p>\n",
       "</td>\n",
       "</tr>\n",
       "<tr>\n",
       "<td valign=\"TOP\">\n",
       "<p><font size=\"1\"> </font></p>\n",
       "</td>\n",
       "<td valign=\"TOP\">\n",
       "<p><font size=\"1\"> </font></p>\n",
       "</td>\n",
       "<td valign=\"TOP\">\n",
       "<p><font size=\"1\"> </font></p>\n",
       "</td>\n",
       "<td valign=\"BOTTOM\">\n",
       "<p><font size=\"1\"> </font></p>\n",
       "</td>\n",
       "<td valign=\"BOTTOM\">\n",
       "<p><font size=\"1\"> </font></p>\n",
       "</td>\n",
       "</tr>\n",
       "<tr>\n",
       "<td valign=\"TOP\">\n",
       "<p><font size=\"1\"> </font></p>\n",
       "</td>\n",
       "<td valign=\"TOP\">\n",
       "<p><font size=\"2\"><b><a href=\"#A014\">Item 2 </a></b></font></p><ENDHERE></ENDHERE>"
      ]
     },
     "metadata": {},
     "output_type": "display_data"
    }
   ],
   "source": [
    "display_html(onea, raw=True)"
   ]
  },
  {
   "cell_type": "code",
   "execution_count": null,
   "metadata": {
    "collapsed": true
   },
   "outputs": [],
   "source": []
  },
  {
   "cell_type": "code",
   "execution_count": null,
   "metadata": {
    "collapsed": true
   },
   "outputs": [],
   "source": []
  },
  {
   "cell_type": "code",
   "execution_count": null,
   "metadata": {
    "collapsed": true
   },
   "outputs": [],
   "source": [
    "STOP\n",
    "writeout = True\n",
    "log.setLevel(logging.ERROR)\n",
    "#dfi = df_new[(df_new['1'].isnull() | (df_new['1'] == ''))]\n",
    "dfi = df_new\n",
    "#dfi = df_new[df_new.cik == 20]\n",
    "tot_all_rows = len(dfi)\n",
    "i = -1\n",
    "print(\"Searching through {}...\".format(tot_all_rows))\n",
    "for idx,row in dfi.iterrows():\n",
    "    i += 1\n",
    "    if i % 1000 == 999:\n",
    "        log.critical(\"Done with {:5d}/{} ({:5d} left, found {} so far)\"\\\n",
    "                     .format(i, tot_all_rows, tot_all_rows - i, len(dfi[dfi.match_score > 0])))\n",
    "        if writeout:\n",
    "            df_new.to_csv(FILENAME_DEV, index=False)\n",
    "    log.debug('-'*20, idx, row['name'], row['year'], '-'*20)\n",
    "    \n",
    "    txt = forms.get_plaintext(row.path)\n",
    "    \n",
    "    log.debug(\"Length of text: {}\".format(len(txt)))\n",
    "    \n",
    "    if not txt:\n",
    "        df_new.loc[idx,'delta'] = NO_FILE_FOUND\n",
    "        df_new.loc[idx,'match_score'] = 0\n",
    "        log.debug(\"No text found :( %r\", df_new.loc[idx])  # this CIK isn't an int\n",
    "        continue\n",
    "    \n",
    "    res = do_search2(txt, row)#, debug=None if debug else print)\n",
    "    \n",
    "    df_new.loc[idx,'delta'], df_new.loc[idx,'delta_pct'] = res['d'],res['dp']\n",
    "    if res['order_str'] is not None:\n",
    "        (df_new.loc[idx,'1'], df_new.loc[idx,'2'],\n",
    "         df_new.loc[idx,'3'], df_new.loc[idx,'4']) = res['order_str']\n",
    "        df_new.loc[idx,'match_score'] = res['match_score']\n",
    "\n",
    "if writeout:\n",
    "    df_new.to_csv(FILENAME_DEV, index=False)\n",
    "\n",
    "print(\"Searched {} and found {}, missed {}%\"\n",
    "      .format(tot_all_rows, len(dfi[dfi.match_score > 0]), 100-100*len(dfi[dfi.match_score > 0])/tot_all_rows))"
   ]
  },
  {
   "cell_type": "code",
   "execution_count": null,
   "metadata": {
    "collapsed": true
   },
   "outputs": [],
   "source": []
  },
  {
   "cell_type": "code",
   "execution_count": null,
   "metadata": {
    "collapsed": true
   },
   "outputs": [],
   "source": []
  },
  {
   "cell_type": "code",
   "execution_count": null,
   "metadata": {
    "collapsed": true
   },
   "outputs": [],
   "source": []
  },
  {
   "cell_type": "code",
   "execution_count": null,
   "metadata": {
    "collapsed": true
   },
   "outputs": [],
   "source": []
  }
 ],
 "metadata": {
  "kernelspec": {
   "display_name": "Python 3",
   "language": "python",
   "name": "python3"
  },
  "language_info": {
   "codemirror_mode": {
    "name": "ipython",
    "version": 3
   },
   "file_extension": ".py",
   "mimetype": "text/x-python",
   "name": "python",
   "nbconvert_exporter": "python",
   "pygments_lexer": "ipython3",
   "version": "3.5.1"
  }
 },
 "nbformat": 4,
 "nbformat_minor": 0
}
