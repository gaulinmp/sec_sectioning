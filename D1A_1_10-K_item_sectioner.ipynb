{
 "cells": [
  {
   "cell_type": "markdown",
   "metadata": {
    "collapsed": true
   },
   "source": [
    "from IPython.parallel import Client\n",
    "IP_client = Client()\n",
    "IP_view = IP_client.load_balanced_view()"
   ]
  },
  {
   "cell_type": "code",
   "execution_count": null,
   "metadata": {
    "collapsed": true
   },
   "outputs": [],
   "source": [
    "# Import \n",
    "%run header.ipynb\n",
    "%run datascience.ipynb\n",
    "%run D1A.ipynb\n",
    "%matplotlib inline\n",
    "\n",
    "import shutil\n",
    "from bs4 import BeautifulSoup\n",
    "\n",
    "from pyedgar.utilities import plaintext\n",
    "from pyedgar.utilities import forms\n",
    "from pyedgar.utilities import edgarweb\n",
    "from pyedgar.utilities import localstore\n",
    "from pyedgar.utilities import htmlparse\n",
    "from pyedgar.exceptions import *\n",
    "\n",
    "import panda_cub\n",
    "panda_cub.monkey_patch_pandas()\n",
    "panda_cub.monkey_patch_seaborn()"
   ]
  },
  {
   "cell_type": "code",
   "execution_count": null,
   "metadata": {
    "ExecuteTime": {
     "end_time": "2017-10-24T20:07:24.179645Z",
     "start_time": "2017-10-24T20:07:20.075174Z"
    },
    "code_folding": [],
    "collapsed": true
   },
   "outputs": [],
   "source": [
    "os.chdir(FEED_ROOT)"
   ]
  },
  {
   "cell_type": "code",
   "execution_count": 2,
   "metadata": {
    "ExecuteTime": {
     "end_time": "2016-10-12T13:49:39.567697",
     "start_time": "2016-10-12T13:49:39.503128"
    }
   },
   "outputs": [],
   "source": [
    "df = pd.read_csv('/data/D1A/blobs.k.2016-07-24.csv.scrape')"
   ]
  },
  {
   "cell_type": "code",
   "execution_count": 3,
   "metadata": {
    "ExecuteTime": {
     "end_time": "2016-10-12T13:49:39.664353",
     "start_time": "2016-10-12T13:49:39.658832"
    }
   },
   "outputs": [
    {
     "data": {
      "text/plain": [
       "6259"
      ]
     },
     "execution_count": 3,
     "metadata": {},
     "output_type": "execute_result"
    }
   ],
   "source": [
    "len(df.cik.unique())"
   ]
  },
  {
   "cell_type": "markdown",
   "metadata": {},
   "source": [
    "# Output methods"
   ]
  },
  {
   "cell_type": "code",
   "execution_count": 4,
   "metadata": {
    "ExecuteTime": {
     "end_time": "2016-10-12T13:49:53.158023",
     "start_time": "2016-10-12T13:49:53.148997"
    }
   },
   "outputs": [],
   "source": [
    "ROOT = {c:os.path.join(DATA_ROOT, c+'1A') for c in 'K Q'.split()}\n",
    "FORM = 'K'\n",
    "FILENAME_TMPLT = os.path.join(DATA_ROOT, 'blobs.{}.{:%Y-%m-%d}.csv')\n",
    "FILENAME_TMP = lambda: FILENAME_TMPLT.format(FORM.lower(), dt.date.today())"
   ]
  },
  {
   "cell_type": "code",
   "execution_count": 5,
   "metadata": {
    "ExecuteTime": {
     "end_time": "2016-10-12T13:49:59.653707",
     "start_time": "2016-10-12T13:49:59.637800"
    }
   },
   "outputs": [],
   "source": [
    "def statout(tmp):\n",
    "    tot = len(tmp)/100\n",
    "    f = \"{:<23}{: >7,d}  {:2.0f}%\"\n",
    "    print(f.format(\"Total:\",len(tmp), 100))\n",
    "    print(f.format(\"Number found orders:\",len(tmp[tmp.match_score > 0]), len(tmp[tmp.match_score > 0])/tot))\n",
    "    print(f.format(\"Number missing orders:\",len(tmp[tmp.match_score <= 0]), len(tmp[tmp.match_score <= 0])/tot))\n",
    "    tot = len(tmp.cik.unique())/100\n",
    "    print(f.format(\"Number of CIKs:\",len(tmp.cik.unique()), 100))\n",
    "    print(f.format(\"Number of CIKs found:\",len(tmp[tmp.match_score > 0].cik.unique()), len(tmp[tmp.match_score > 0].cik.unique())/tot))\n",
    "    print(f.format(\"Number of CIKs missing:\",len(tmp[tmp.match_score <= 0].cik.unique()), len(tmp[tmp.match_score <= 0].cik.unique())/tot))"
   ]
  },
  {
   "cell_type": "markdown",
   "metadata": {},
   "source": [
    "# Load 10-K list"
   ]
  },
  {
   "cell_type": "code",
   "execution_count": 8,
   "metadata": {
    "ExecuteTime": {
     "end_time": "2016-10-12T13:52:09.249919",
     "start_time": "2016-10-12T13:52:01.723938"
    }
   },
   "outputs": [
    {
     "name": "stdout",
     "output_type": "stream",
     "text": [
      "Num: 237,720\tStart: 1991-06-30\tEnd: 2015-09-30\n",
      "Num 10-Ks post 05: 89,687\tCIKs: 13,541\n"
     ]
    }
   ],
   "source": [
    "if \"Compustat\":\n",
    "    df_comp = pd.read_csv(os.path.join(SHARED_DATA_ROOT, 'funda.csv'))\n",
    "    for c in 'datadate rdq comp_start'.split():\n",
    "        df_comp[c] = pd.to_datetime(df_comp[c])\n",
    "    \n",
    "    df_comp['comp_age'] = (df_comp['datadate'] - df_comp['comp_start']) / TD_DAY\n",
    "\n",
    "    df_comp['sich'] = df_comp.groupby('gvkey').sich.fillna(method='ffill')\n",
    "    df_comp['sich'] = df_comp.groupby('gvkey').sich.fillna(method='bfill')\n",
    "    \n",
    "    df_comp.winsor(\"\"\"at lt prcc_f cshpri txditc invt ppent pi ni sale\n",
    "                   re act lct csho xrd ajex oibdp oancf wcap dp ib\n",
    "                   xint pstk teq dlc dltt\"\"\".split(), inplace=True)\n",
    "\n",
    "    print(\"Num: {:,}\\tStart: {:%Y-%m-%d}\\tEnd: {:%Y-%m-%d}\".format(\n",
    "          len(df_comp), df_comp.datadate.min(), df_comp.datadate.max(), ))\n",
    "    print(\"Num 10-Ks post 05: {:,d}\\tCIKs: {:,d}\".format(len(df_comp[df_comp.fyear >= 2005]),\n",
    "                                                         len(df_comp[df_comp.fyear >= 2005].cik.unique())))"
   ]
  },
  {
   "cell_type": "code",
   "execution_count": 9,
   "metadata": {
    "ExecuteTime": {
     "end_time": "2016-10-12T13:55:17.406264",
     "start_time": "2016-10-12T13:55:15.768218"
    }
   },
   "outputs": [
    {
     "name": "stdout",
     "output_type": "stream",
     "text": [
      "Forms: 101982\tCIKs: 23252\n",
      "Forms: 67648\tCIKs: 9632\n"
     ]
    },
    {
     "data": {
      "text/html": [
       "<table border=\"1\" class=\"dataframe\">\n",
       "  <thead>\n",
       "    <tr style=\"text-align: right;\">\n",
       "      <th>cik</th>\n",
       "      <th>name</th>\n",
       "      <th>form</th>\n",
       "      <th>filedate</th>\n",
       "      <th>accession</th>\n",
       "      <th>period</th>\n",
       "      <th>sic</th>\n",
       "      <th>ff12_name</th>\n",
       "      <th>ff12</th>\n",
       "      <th>ff48</th>\n",
       "      <th>ff48_name</th>\n",
       "      <th>links</th>\n",
       "    </tr>\n",
       "  </thead>\n",
       "  <tbody>\n",
       "    <tr>\n",
       "      <td>20</td>\n",
       "      <td>K TRON INTERNATIONAL INC</td>\n",
       "      <td>10-K</td>\n",
       "      <td>2005-03-31</td>\n",
       "      <td>0000893220-05-000728</td>\n",
       "      <td>2005-01-01</td>\n",
       "      <td>3823</td>\n",
       "      <td>BusEq</td>\n",
       "      <td>6</td>\n",
       "      <td>37</td>\n",
       "      <td>LabEq</td>\n",
       "      <td><a href='ftp://ftp.sec.gov/edgar/data/20/0000893220-05-000728.txt' target=_blank>FTP</a><a href='http://www.sec.gov/Archives/edgar/data/20/0000893220-05-000728-index.htm' target=_blank>HTML</a></td>\n",
       "    </tr>\n",
       "    <tr>\n",
       "      <td>20</td>\n",
       "      <td>K TRON INTERNATIONAL INC</td>\n",
       "      <td>10-Q</td>\n",
       "      <td>2005-05-05</td>\n",
       "      <td>0000893220-05-001038</td>\n",
       "      <td>2005-04-02</td>\n",
       "      <td>3823</td>\n",
       "      <td>BusEq</td>\n",
       "      <td>6</td>\n",
       "      <td>37</td>\n",
       "      <td>LabEq</td>\n",
       "      <td><a href='ftp://ftp.sec.gov/edgar/data/20/0000893220-05-001038.txt' target=_blank>FTP</a><a href='http://www.sec.gov/Archives/edgar/data/20/0000893220-05-001038-index.htm' target=_blank>HTML</a></td>\n",
       "    </tr>\n",
       "    <tr>\n",
       "      <td>20</td>\n",
       "      <td>K TRON INTERNATIONAL INC</td>\n",
       "      <td>10-Q</td>\n",
       "      <td>2005-08-03</td>\n",
       "      <td>0000893220-05-001794</td>\n",
       "      <td>2005-07-02</td>\n",
       "      <td>3823</td>\n",
       "      <td>BusEq</td>\n",
       "      <td>6</td>\n",
       "      <td>37</td>\n",
       "      <td>LabEq</td>\n",
       "      <td><a href='ftp://ftp.sec.gov/edgar/data/20/0000893220-05-001794.txt' target=_blank>FTP</a><a href='http://www.sec.gov/Archives/edgar/data/20/0000893220-05-001794-index.htm' target=_blank>HTML</a></td>\n",
       "    </tr>\n",
       "    <tr>\n",
       "      <td>20</td>\n",
       "      <td>K TRON INTERNATIONAL INC</td>\n",
       "      <td>10-Q</td>\n",
       "      <td>2005-10-31</td>\n",
       "      <td>0000893220-05-002440</td>\n",
       "      <td>2005-10-01</td>\n",
       "      <td>3823</td>\n",
       "      <td>BusEq</td>\n",
       "      <td>6</td>\n",
       "      <td>37</td>\n",
       "      <td>LabEq</td>\n",
       "      <td><a href='ftp://ftp.sec.gov/edgar/data/20/0000893220-05-002440.txt' target=_blank>FTP</a><a href='http://www.sec.gov/Archives/edgar/data/20/0000893220-05-002440-index.htm' target=_blank>HTML</a></td>\n",
       "    </tr>\n",
       "    <tr>\n",
       "      <td>20</td>\n",
       "      <td>K TRON INTERNATIONAL INC</td>\n",
       "      <td>10-K</td>\n",
       "      <td>2006-03-23</td>\n",
       "      <td>0000893220-06-000650</td>\n",
       "      <td>2005-12-31</td>\n",
       "      <td>3823</td>\n",
       "      <td>BusEq</td>\n",
       "      <td>6</td>\n",
       "      <td>37</td>\n",
       "      <td>LabEq</td>\n",
       "      <td><a href='ftp://ftp.sec.gov/edgar/data/20/0000893220-06-000650.txt' target=_blank>FTP</a><a href='http://www.sec.gov/Archives/edgar/data/20/0000893220-06-000650-index.htm' target=_blank>HTML</a></td>\n",
       "    </tr>\n",
       "  </tbody>\n",
       "</table>"
      ]
     },
     "metadata": {},
     "output_type": "display_data"
    }
   ],
   "source": [
    "tens = pd.read_csv(os.path.join(IDX_ROOT, 'form_10.periods.csv'))\n",
    "for c in 'filedate period'.split():\n",
    "    tens[c] = pd.to_datetime(tens[c])\n",
    "tens = (tens[tens.filedate >= dt.date(2005,1,1)]\n",
    "            .sort_values('cik filedate'.split())\n",
    "            .reset_index(drop=True))\n",
    "sel = tens.form.str.contains('K')\n",
    "print('Forms: {}\\tCIKs: {}'.format(tens[sel].cik.count(),len(tens[sel].cik.unique())))\n",
    "keepciks = df_comp[df_comp.fyear >= 2005].cik.unique()\n",
    "sel &= tens.cik.isin(keepciks)\n",
    "print('Forms: {}\\tCIKs: {}'.format(tens[sel].cik.count(),len(tens[sel].cik.unique())))\n",
    "linkhead(tens)"
   ]
  },
  {
   "cell_type": "markdown",
   "metadata": {},
   "source": [
    "# Load 10-K/Q dataframes"
   ]
  },
  {
   "cell_type": "code",
   "execution_count": 8,
   "metadata": {
    "ExecuteTime": {
     "end_time": "2016-07-24T15:21:31.953016",
     "start_time": "2016-07-24T15:21:31.642758"
    }
   },
   "outputs": [
    {
     "data": {
      "text/html": [
       "<table border=\"1\" class=\"dataframe\">\n",
       "  <thead>\n",
       "    <tr style=\"text-align: right;\">\n",
       "      <th>cik</th>\n",
       "      <th>accession</th>\n",
       "      <th>path</th>\n",
       "      <th>links</th>\n",
       "    </tr>\n",
       "  </thead>\n",
       "  <tbody>\n",
       "    <tr>\n",
       "      <td>1053691</td>\n",
       "      <td>0001104659-15-025785</td>\n",
       "      <td>0001053691_2015-04-03_0001104659-15-025785.html</td>\n",
       "      <td><a href='ftp://ftp.sec.gov/edgar/data/1053691/0001104659-15-025785.txt' target=_blank>FTP</a><a href='http://www.sec.gov/Archives/edgar/data/1053691/0001104659-15-025785-index.htm' target=_blank>HTML</a></td>\n",
       "    </tr>\n",
       "  </tbody>\n",
       "</table>"
      ]
     },
     "metadata": {},
     "output_type": "display_data"
    }
   ],
   "source": [
    "existing_files = [os.path.basename(f) for f in localstore.walk_files(ROOT[FORM])]\n",
    "df_files = pd.DataFrame([x[:-5].split('_') + [x] for x in existing_files],\n",
    "                        columns='cik fdate accession path'.split())\n",
    "df_files['cik'] = df_files.cik.astype(int)\n",
    "del df_files['fdate']\n",
    "linkhead(df_files, n=1)"
   ]
  },
  {
   "cell_type": "code",
   "execution_count": 15,
   "metadata": {
    "ExecuteTime": {
     "end_time": "2016-07-24T15:30:59.906789",
     "start_time": "2016-07-24T15:30:58.323153"
    }
   },
   "outputs": [
    {
     "name": "stdout",
     "output_type": "stream",
     "text": [
      "# of 10-Qs to search: 101982\n",
      "# of filtered 10-Qs to search: 54447\n",
      "10s: 212659\n",
      "Ks:  54447 (26%)\n",
      "Found: 38511 (71%)\n",
      "Missing: 15936 (29%)\n"
     ]
    },
    {
     "data": {
      "text/html": [
       "<table border=\"1\" class=\"dataframe\">\n",
       "  <thead>\n",
       "    <tr style=\"text-align: right;\">\n",
       "      <th>cik</th>\n",
       "      <th>name</th>\n",
       "      <th>form</th>\n",
       "      <th>filedate</th>\n",
       "      <th>accession</th>\n",
       "      <th>period</th>\n",
       "      <th>sic</th>\n",
       "      <th>ff12_name</th>\n",
       "      <th>ff12</th>\n",
       "      <th>ff48</th>\n",
       "      <th>ff48_name</th>\n",
       "      <th>starts</th>\n",
       "      <th>ends</th>\n",
       "      <th>path</th>\n",
       "      <th>links</th>\n",
       "    </tr>\n",
       "  </thead>\n",
       "  <tbody>\n",
       "    <tr>\n",
       "      <td>20</td>\n",
       "      <td>K TRON INTERNATIONAL INC</td>\n",
       "      <td>10-K</td>\n",
       "      <td>2005-03-31</td>\n",
       "      <td>0000893220-05-000728</td>\n",
       "      <td>2005-01-01</td>\n",
       "      <td>3823</td>\n",
       "      <td>BusEq</td>\n",
       "      <td>6</td>\n",
       "      <td>37</td>\n",
       "      <td>LabEq</td>\n",
       "      <td>nan</td>\n",
       "      <td>nan</td>\n",
       "      <td></td>\n",
       "      <td><a href='ftp://ftp.sec.gov/edgar/data/20/0000893220-05-000728.txt' target=_blank>FTP</a><a href='http://www.sec.gov/Archives/edgar/data/20/0000893220-05-000728-index.htm' target=_blank>HTML</a></td>\n",
       "    </tr>\n",
       "  </tbody>\n",
       "</table>"
      ]
     },
     "metadata": {},
     "output_type": "display_data"
    }
   ],
   "source": [
    "df = tens[tens.form.str.contains(FORM)]\n",
    "df = df.merge(pd.read_csv(os.path.join(DATA_ROOT, 'blobs.{}.csv'.format(FORM.lower())),\n",
    "                          usecols='cik accession starts ends'.split()),\n",
    "              on='cik accession'.split(), how='outer', suffixes=('', '_old'))\n",
    "df = df.merge(df_files, on='cik accession'.split(), how='left')\n",
    "df.ix[df.path.isnull(), 'starts ends'.split()] = np.nan\n",
    "print(\"# of 10-Qs to search:\", len(df))\n",
    "\n",
    "if os.path.exists(os.path.join(DATA_ROOT, 'all_data_merge.csv')):\n",
    "    _tmpdf = pd.read_csv(os.path.join(DATA_ROOT, 'all_data_merge.csv'),\n",
    "                         usecols='gvkey cik permno num_headers atq mcap'.split())\n",
    "    _sel = _tmpdf['gvkey cik permno'.split()].notnull().all(axis=1)\n",
    "    _sel = _tmpdf[_sel].cik.unique()\n",
    "    \n",
    "    df = df[df.cik.isin(_sel)]\n",
    "    print(\"# of filtered 10-Qs to search:\", len(df))\n",
    "\n",
    "tmp = len(tens[tens.cik.isin(_sel)]), len(df), sum((df.starts==1) & (df.ends==1))\n",
    "print(\"10s: {}\\nKs:  {} ({:2.0f}%)\\nFound: {} ({:2.0f}%)\\nMissing: {} ({:2.0f}%)\"\n",
    "      .format(tmp[0], tmp[1], tmp[1]/tmp[0]*100, \n",
    "              tmp[2], tmp[2]/tmp[1]*100, tmp[1]-tmp[2], (tmp[1]-tmp[2])/tmp[1]*100))\n",
    "linkhead(df, n=1)"
   ]
  },
  {
   "cell_type": "markdown",
   "metadata": {},
   "source": [
    "# Helper functions"
   ]
  },
  {
   "cell_type": "code",
   "execution_count": 16,
   "metadata": {
    "ExecuteTime": {
     "end_time": "2016-07-24T15:31:44.239915",
     "start_time": "2016-07-24T15:31:44.217410"
    },
    "collapsed": true
   },
   "outputs": [],
   "source": [
    "RE_item = re.compile('^(?:\\s|</?[a-z][^>]*>|&nbsp;)*'\n",
    "                     'item(?:[^a-z0-9]|&nbsp;)*(1[AB]|2)', re.I)\n",
    "\n",
    "RE_1A = re.compile('^[^a-z0-9\\r\\n]*item[^a-z0-9]*1A[^a-z]*risk[^a-z]*factors?', re.I)\n",
    "RE_1A_clean = re.compile('^\\s*item[^a-z0-9]*1A[^a-z]*risk[^a-z]*factors?\\s*$', re.I)\n",
    "RE_1A_toc = re.compile('^\\s*item[^a-z0-9]*1A[^a-z]*risk[^a-z]*factors?[^a-z0-9]*\\d+[^a-z0-9]*$', re.I)\n",
    "# RE_1A_clean = re.compile('^\\s*item\\s+1A\\s+risk\\s*factors?\\s*$', re.I)\n",
    "# RE_1A_toc = re.compile('^\\s*item\\s+1A\\s+risk\\s*factors?\\s*\\d+\\s*$', re.I)\n",
    "RE_1B = re.compile('^[^a-z0-9\\r\\n]*item[^a-z0-9]*1B[^a-z]*(?:(?:unresolved|sec|staff|comments)[^a-z]*)+$', re.I)\n",
    "RE_2 = re.compile('^\\s*item[^a-z0-9]*2.{,20}propert(?:y|ies)\\D{,35}$', re.I)\n",
    "RE_1B2_toc = re.compile('^\\s*item\\s+(?:1B|2)?\\s+.{1,40}\\d+\\s*$', re.I)\n",
    "\n",
    "re_clean = lambda x: re.compile('[^a-z0-9]+', re.I).sub(' ', x)"
   ]
  },
  {
   "cell_type": "code",
   "execution_count": 18,
   "metadata": {
    "ExecuteTime": {
     "end_time": "2016-07-24T15:32:21.798383",
     "start_time": "2016-07-24T15:32:21.793147"
    },
    "collapsed": true
   },
   "outputs": [],
   "source": [
    "EMPH_TAGS = \"b em strong h1 h2 h3 h4 h5 h6 u\".split()\n",
    "FACE_TAGS = \"p font div span li\".split()\n",
    "EMPH_STYLE = re.compile(r\"bold|underline\", re.I)\n",
    "DIVIDER_STYLES = 'h1 h2 h3 h4 h5 h6 p div ul ol tr table'.split()"
   ]
  },
  {
   "cell_type": "markdown",
   "metadata": {},
   "source": [
    "def find_items(soup, debug=False):\n",
    "    collect_1as = []\n",
    "    collect_next = []\n",
    "    for tag in soup.find_all(text=RE_item):\n",
    "        emphasized_tag = False\n",
    "        for parent_tag in tag.parents:\n",
    "            if parent_tag.name.lower() in EMPH_TAGS:\n",
    "                if debug: print('Emphasized {!r}'.format(tag))\n",
    "                emphasized_tag = True\n",
    "            elif (parent_tag.name.lower() in FACE_TAGS\n",
    "                  and EMPH_STYLE.search(parent_tag.attrs.get('style', ''))):\n",
    "                if debug: print('Emphasized {!r}'.format(tag))\n",
    "                emphasized_tag = True\n",
    "            if emphasized_tag: # Bold. Stop searching parents.\n",
    "                break\n",
    "        if not emphasized_tag:\n",
    "            continue\n",
    "        for parent_tag in tag.parents:\n",
    "            if parent_tag.name.lower() in DIVIDER_STYLES:\n",
    "                if debug: print('Container {} for {!r}'.format(parent_tag.name, tag))\n",
    "                break\n",
    "        else:\n",
    "            parent_tag = None\n",
    "        if parent_tag is None:\n",
    "            if debug: print(\"Parent tag wasn't container of {!r}\".format(tag))\n",
    "            continue\n",
    "        full_text = re_clean(parent_tag.get_text())\n",
    "        if debug: print(\"Full text of {!r} is {!r}\".format(tag, full_text))\n",
    "        if RE_1A.search(full_text):\n",
    "            collect_1as.append(parent_tag)\n",
    "            parent_tag.insert_before(soup.new_tag('STARTHERE'))\n",
    "            if debug: print(\"Inserted start before 1A: {}\".format(str(parent_tag)[:50]))\n",
    "        elif RE_1B.search(full_text) or (RE_2.search(full_text) and not collect_next):\n",
    "            collect_next.append(parent_tag)\n",
    "            parent_tag.insert_after(soup.new_tag('ENDHERE'))\n",
    "            if debug: print(\"Inserted end after {}\".format(str(parent_tag)[:50]))\n",
    "    return collect_1as, collect_next"
   ]
  },
  {
   "cell_type": "code",
   "execution_count": 27,
   "metadata": {
    "ExecuteTime": {
     "end_time": "2016-07-24T15:44:15.611058",
     "start_time": "2016-07-24T15:44:15.607033"
    },
    "code_folding": [
     0
    ],
    "collapsed": true
   },
   "outputs": [],
   "source": [
    "def get_parent_names(tag):\n",
    "    return [_.name.lower() for _ in tag.parents if _.name not in ('body', 'html', '[document]')]"
   ]
  },
  {
   "cell_type": "code",
   "execution_count": 19,
   "metadata": {
    "ExecuteTime": {
     "end_time": "2016-07-24T15:32:39.878686",
     "start_time": "2016-07-24T15:32:39.767284"
    },
    "code_folding": []
   },
   "outputs": [],
   "source": [
    "def find_items(soup, debug=False):\n",
    "    collect_1as = []\n",
    "    collect_next = []\n",
    "    for tag in soup.find_all(text=RE_item):\n",
    "        if debug: print(tag)\n",
    "        for parent_tag in tag.parents:\n",
    "            if parent_tag.name.lower() in EMPH_TAGS \\\n",
    "               or (parent_tag.name.lower() in FACE_TAGS\n",
    "                   and EMPH_STYLE.search(parent_tag.attrs.get('style', ''))):\n",
    "                if debug: print('\\tEmphasized {!r}'.format(tag))\n",
    "                # Then ITEM is emphasized. Break and skip the continue at the end of this loop.\n",
    "                break\n",
    "        else: continue\n",
    "\n",
    "        # Evaluates to true if there is no TR tag present\n",
    "        has_tr = 'tr' in get_parent_names(tag)\n",
    "        first_parent, row_parent = None, None\n",
    "        for parent_tag in tag.parents:\n",
    "            if parent_tag.name.lower() in DIVIDER_STYLES:\n",
    "                if debug: print('\\tContainer {} for {!r}'.format(parent_tag.name, tag))\n",
    "                if first_parent is None:\n",
    "                    first_parent = parent_tag\n",
    "                    if not has_tr or parent_tag.name.lower() == 'tr':\n",
    "                        break\n",
    "                elif parent_tag.name.lower() == 'tr':\n",
    "                    row_parent = parent_tag\n",
    "                    break\n",
    "        else:\n",
    "            # No break, no dividers found. Mostly an error case.\n",
    "            if debug: print(\"\\tParent tag wasn't container of {!r}\".format(tag))\n",
    "            continue\n",
    "        \n",
    "        # At this point parent_tag ISN'T necessarily correct.\n",
    "        full_text = re_clean(first_parent.get_text())\n",
    "        if row_parent:\n",
    "            row_full_text = re_clean(row_parent.get_text())\n",
    "            # If parent does match but row matches TOC, then this tag\n",
    "            if any([bool(r.search(full_text)) for r in (RE_1A_clean, RE_1B, RE_2)]):\n",
    "                if RE_1A_toc.search(row_full_text) or RE_1B2_toc.search(row_full_text):\n",
    "                    # Then we're in a table of contents. Continue\n",
    "                    if debug: print(\"\\t>Parent matched item but row matched TOC: {!r}\"\n",
    "                                    .format(row_full_text))\n",
    "                    continue\n",
    "                # otherwise the row parent doesn't matter. Set parent tag to first_parent\n",
    "                parent_tag = first_parent\n",
    "            # If parent doesn't match and row does, use row\n",
    "            elif any([bool(r.search(row_full_text)) for r in (RE_1A_clean, RE_1B, RE_2)]):\n",
    "                # Then parent tag is row_parent\n",
    "                if debug: print(\"\\t>Parent didn't match item but row did: {!r}\"\n",
    "                                .format(row_full_text))\n",
    "                parent_tag = row_parent\n",
    "                full_text = row_full_text\n",
    "            # Otherwise continue to next tag.\n",
    "            else:\n",
    "                if debug: print(\"\\t>Neither parent nor row matched\")\n",
    "        else:\n",
    "            parent_tag = first_parent\n",
    "        \n",
    "        # Now parent_tag should be the correct parent (if not, the code above continued)\n",
    "        if debug: print(\"\\tFull text of {!r} is {!r}\".format(tag, full_text))\n",
    "\n",
    "        if RE_1A.search(full_text) and not RE_1A_toc.search(full_text):\n",
    "            collect_1as.append(parent_tag)\n",
    "            parent_tag.insert_before(soup.new_tag('STARTHERE'))\n",
    "            if debug: print(\"!\\tInserted start before 1A: {!r}\".format(str(parent_tag)[:50]))\n",
    "        elif RE_1B.search(full_text) or (RE_2.search(full_text) and not collect_next):\n",
    "            collect_next.append(parent_tag)\n",
    "            parent_tag.insert_after(soup.new_tag('ENDHERE'))\n",
    "            if debug: print(\"!\\tInserted end after {!r}\".format(str(parent_tag)[:50]))\n",
    "    return collect_1as, collect_next"
   ]
  },
  {
   "cell_type": "markdown",
   "metadata": {},
   "source": [
    "# Iterate and search 10-Ks"
   ]
  },
  {
   "cell_type": "code",
   "execution_count": 21,
   "metadata": {
    "ExecuteTime": {
     "end_time": "2016-07-24T15:34:26.992976",
     "start_time": "2016-07-24T15:34:26.985743"
    }
   },
   "outputs": [
    {
     "data": {
      "text/plain": [
       "'/data/D1A/K1A/{cik:010d}_{filedate:%Y-%m-%d}_{accession}.html'"
      ]
     },
     "execution_count": 21,
     "metadata": {},
     "output_type": "execute_result"
    }
   ],
   "source": [
    "OUT_FPATTERN = os.path.join(ROOT[FORM], '{cik:010d}_{filedate:%Y-%m-%d}_{accession}.html');OUT_FPATTERN"
   ]
  },
  {
   "cell_type": "markdown",
   "metadata": {},
   "source": [
    "with open(\"/home/gaulinmp/Desktop/new_files.txt\", 'w') as fh:\n",
    "    fh.write('Start!\\n')"
   ]
  },
  {
   "cell_type": "code",
   "execution_count": 22,
   "metadata": {
    "ExecuteTime": {
     "end_time": "2016-07-24T15:34:54.171161",
     "start_time": "2016-07-24T15:34:54.160852"
    },
    "code_folding": [
     0
    ],
    "collapsed": true
   },
   "outputs": [],
   "source": [
    "def res_to_df(results):\n",
    "    _df = (pd.DataFrame.from_dict(results, orient='index')\n",
    "              ['starts ends'.split()]\n",
    "              .reset_index())\n",
    "    _df['filename'] = _df['index'].apply(lambda x: x.split('/')[-1])\n",
    "    _df['cik'] = _df['filename'].apply(lambda x: int(x.split('_')[0]))\n",
    "    _df['accession'] = _df['filename'].apply(lambda x: x.split('_')[-1][:-5])\n",
    "    return _df"
   ]
  },
  {
   "cell_type": "markdown",
   "metadata": {},
   "source": [
    "## Main Loop"
   ]
  },
  {
   "cell_type": "code",
   "execution_count": 24,
   "metadata": {
    "ExecuteTime": {
     "end_time": "2016-07-24T15:35:47.116027",
     "start_time": "2016-07-24T15:35:47.105729"
    },
    "collapsed": true
   },
   "outputs": [],
   "source": [
    "BAD_STARTEND = [None,]*99\n",
    "tmpdf = df[~(df.starts > 0)]\n",
    "results = {}"
   ]
  },
  {
   "cell_type": "code",
   "execution_count": 28,
   "metadata": {
    "ExecuteTime": {
     "end_time": "2016-07-24T20:18:24.924244",
     "start_time": "2016-07-24T15:44:40.942021"
    },
    "scrolled": true
   },
   "outputs": [
    {
     "name": "stdout",
     "output_type": "stream",
     "text": [
      "\n"
     ]
    }
   ],
   "source": [
    "DEBUG = False\n",
    "\n",
    "try:\n",
    "    for i,row in tqdm(tmpdf.iterrows(), total=len(tmpdf)):\n",
    "        src_fname = localstore.get_filing_path(row.cik, row.accession)\n",
    "        if not os.path.exists(src_fname):\n",
    "            continue\n",
    "        \n",
    "        dest_fname = OUT_FPATTERN.format(**row)\n",
    "\n",
    "        if (os.path.exists(dest_fname)\n",
    "            or dest_fname in results):\n",
    "            continue\n",
    "        # Checks done, we have not done this form yet\n",
    "        results[dest_fname] = {}\n",
    "        \n",
    "        try:\n",
    "            rtxt = forms.get_form(src_fname)\n",
    "        except EDGARFilingFormatError:\n",
    "            continue\n",
    "        if not htmlparse.RE_HTML_TAGS.findall(rtxt, 0, 500):\n",
    "            # Not HTML\n",
    "            continue\n",
    "\n",
    "        soup = BeautifulSoup(rtxt, 'lxml')\n",
    "\n",
    "        starts, ends = find_items(soup, debug=DEBUG)\n",
    "        istart,iend = -1, -1\n",
    "\n",
    "        if len(starts) == 1 and len(ends) == 1:\n",
    "            try:\n",
    "                prtxt = str(soup)\n",
    "            except RuntimeError:\n",
    "                # Some forms are so bad that beautiful soup craps out\n",
    "                prtxt = ''\n",
    "                # below we save len(starts/ends), which will be 99 if bad\n",
    "                starts, ends = BAD_STARTEND, BAD_STARTEND\n",
    "            \n",
    "            istart,iend = prtxt.find('<STARTHERE>'), prtxt.find('</ENDHERE>')\n",
    "            \n",
    "            \n",
    "            if istart > 0 and iend > 0:\n",
    "                onea = prtxt[istart:iend+len('</ENDHERE>')]\n",
    "\n",
    "                with open(dest_fname, 'w') as fh:\n",
    "                    fh.write(onea)\n",
    "            \n",
    "                with open(\"/home/gaulinmp/Desktop/new_files.txt\", 'a') as fh:\n",
    "                    fh.write(dest_fname)\n",
    "                    fh.write('\\n')\n",
    "        \n",
    "        # Update the results with new starts and ends\n",
    "        results[dest_fname].update({'starts':len(starts), 'ends':len(ends)})\n",
    "\n",
    "        if DEBUG and i > 20: break\n",
    "finally:\n",
    "    res_to_df(results).to_csv(FILENAME_TMP()+'.scrape', index=False)"
   ]
  },
  {
   "cell_type": "code",
   "execution_count": 31,
   "metadata": {
    "ExecuteTime": {
     "end_time": "2016-07-24T20:50:45.004847",
     "start_time": "2016-07-24T20:50:43.058270"
    },
    "code_folding": [
     0,
     9,
     24
    ]
   },
   "outputs": [
    {
     "name": "stdout",
     "output_type": "stream",
     "text": [
      "10s: 212659\n",
      "Ks:  54447 (26%)\n",
      "Found: 43432 (80%)\n",
      "Missing: 11015 (20%)\n"
     ]
    },
    {
     "data": {
      "text/html": [
       "<table border=\"1\" class=\"dataframe\">\n",
       "  <thead>\n",
       "    <tr style=\"text-align: right;\">\n",
       "      <th>cik</th>\n",
       "      <th>name</th>\n",
       "      <th>form</th>\n",
       "      <th>filedate</th>\n",
       "      <th>accession</th>\n",
       "      <th>period</th>\n",
       "      <th>sic</th>\n",
       "      <th>ff12_name</th>\n",
       "      <th>ff12</th>\n",
       "      <th>ff48</th>\n",
       "      <th>ff48_name</th>\n",
       "      <th>starts</th>\n",
       "      <th>ends</th>\n",
       "      <th>path</th>\n",
       "      <th>filename</th>\n",
       "      <th>links</th>\n",
       "    </tr>\n",
       "  </thead>\n",
       "  <tbody>\n",
       "    <tr>\n",
       "      <td>20</td>\n",
       "      <td>K TRON INTERNATIONAL INC</td>\n",
       "      <td>10-K</td>\n",
       "      <td>2005-03-31</td>\n",
       "      <td>0000893220-05-000728</td>\n",
       "      <td>2005-01-01</td>\n",
       "      <td>3823</td>\n",
       "      <td>BusEq</td>\n",
       "      <td>6</td>\n",
       "      <td>37</td>\n",
       "      <td>LabEq</td>\n",
       "      <td>nan</td>\n",
       "      <td>nan</td>\n",
       "      <td></td>\n",
       "      <td></td>\n",
       "      <td><a href='ftp://ftp.sec.gov/edgar/data/20/0000893220-05-000728.txt' target=_blank>FTP</a><a href='http://www.sec.gov/Archives/edgar/data/20/0000893220-05-000728-index.htm' target=_blank>HTML</a></td>\n",
       "    </tr>\n",
       "    <tr>\n",
       "      <td>20</td>\n",
       "      <td>K TRON INTERNATIONAL INC</td>\n",
       "      <td>10-K</td>\n",
       "      <td>2006-03-23</td>\n",
       "      <td>0000893220-06-000650</td>\n",
       "      <td>2005-12-31</td>\n",
       "      <td>3823</td>\n",
       "      <td>BusEq</td>\n",
       "      <td>6</td>\n",
       "      <td>37</td>\n",
       "      <td>LabEq</td>\n",
       "      <td>1</td>\n",
       "      <td>1</td>\n",
       "      <td>0000000020_2006-03-23_0000893220-06-000650.html</td>\n",
       "      <td></td>\n",
       "      <td><a href='ftp://ftp.sec.gov/edgar/data/20/0000893220-06-000650.txt' target=_blank>FTP</a><a href='http://www.sec.gov/Archives/edgar/data/20/0000893220-06-000650-index.htm' target=_blank>HTML</a></td>\n",
       "    </tr>\n",
       "    <tr>\n",
       "      <td>20</td>\n",
       "      <td>K TRON INTERNATIONAL INC</td>\n",
       "      <td>10-K</td>\n",
       "      <td>2007-03-09</td>\n",
       "      <td>0000893220-07-000678</td>\n",
       "      <td>2006-12-30</td>\n",
       "      <td>3823</td>\n",
       "      <td>BusEq</td>\n",
       "      <td>6</td>\n",
       "      <td>37</td>\n",
       "      <td>LabEq</td>\n",
       "      <td>1</td>\n",
       "      <td>1</td>\n",
       "      <td>0000000020_2007-03-09_0000893220-07-000678.html</td>\n",
       "      <td></td>\n",
       "      <td><a href='ftp://ftp.sec.gov/edgar/data/20/0000893220-07-000678.txt' target=_blank>FTP</a><a href='http://www.sec.gov/Archives/edgar/data/20/0000893220-07-000678-index.htm' target=_blank>HTML</a></td>\n",
       "    </tr>\n",
       "  </tbody>\n",
       "</table>"
      ]
     },
     "metadata": {},
     "output_type": "display_data"
    }
   ],
   "source": [
    "if \"Add results to DataFrame\":\n",
    "    df_new = res_to_df(results)\n",
    "    del df_new['index']\n",
    "\n",
    "    df_new = df.merge(df_new, on='cik accession'.split(), how='outer', suffixes=('', '_new'))\n",
    "    for c in 'starts ends'.split():\n",
    "        df_new[c] = df_new[[c, c+'_new']].max(axis=1)\n",
    "        del df_new[c+'_new']\n",
    "\n",
    "if \"Copy New Results to blobs (and backup old)\":\n",
    "    blob_fnam = os.path.join(DATA_ROOT, 'blobs.{}.csv'.format(FORM.lower()))\n",
    "\n",
    "    if os.path.exists(blob_fnam):\n",
    "        _t = dt.datetime.fromtimestamp(os.path.getmtime(blob_fnam))\n",
    "        backup_fnam = os.path.join(DATA_ROOT, \n",
    "                                   'blobs.{}.{:%Y-%m-%d}.csv'.format(FORM.lower(), _t))\n",
    "        if not os.path.exists(backup_fnam):\n",
    "            shutil.copy2(blob_fnam, backup_fnam)\n",
    "\n",
    "    (df_new['cik name form filedate accession period starts ends'.split()]\n",
    "            .to_csv(FILENAME_TMP(), index=False))\n",
    "    (df_new['cik name form filedate accession period starts ends'.split()]\n",
    "            .to_csv(blob_fnam, index=False))\n",
    "\n",
    "if \"Summarize\":\n",
    "    tmp = len(tens[tens.cik.isin(_sel)]), len(df_new), sum(df_new.starts>0)\n",
    "    print(\"10s: {}\\nKs:  {} ({:2.0f}%)\\nFound: {} ({:2.0f}%)\\nMissing: {} ({:2.0f}%)\"\n",
    "          .format(tmp[0], tmp[1], tmp[1]/tmp[0]*100, \n",
    "                  tmp[2], tmp[2]/tmp[1]*100, tmp[1]-tmp[2], (tmp[1]-tmp[2])/tmp[1]*100))"
   ]
  },
  {
   "cell_type": "code",
   "execution_count": null,
   "metadata": {
    "collapsed": true
   },
   "outputs": [],
   "source": []
  },
  {
   "cell_type": "code",
   "execution_count": null,
   "metadata": {
    "collapsed": true
   },
   "outputs": [],
   "source": []
  },
  {
   "cell_type": "markdown",
   "metadata": {},
   "source": [
    "# One off tester"
   ]
  },
  {
   "cell_type": "markdown",
   "metadata": {},
   "source": [
    "Bad CIKS: 2186, "
   ]
  },
  {
   "cell_type": "code",
   "execution_count": 227,
   "metadata": {
    "scrolled": true
   },
   "outputs": [
    {
     "data": {
      "text/html": [
       "<table border=\"1\" class=\"dataframe\">\n",
       "  <thead>\n",
       "    <tr style=\"text-align: right;\">\n",
       "      <th>permno</th>\n",
       "      <th>gvkey</th>\n",
       "      <th>cik</th>\n",
       "      <th>datadate</th>\n",
       "      <th>fyearq</th>\n",
       "      <th>fyr</th>\n",
       "      <th>fqtr</th>\n",
       "      <th>form</th>\n",
       "      <th>filedate</th>\n",
       "      <th>period</th>\n",
       "      <th>accession</th>\n",
       "      <th>starts</th>\n",
       "      <th>ends</th>\n",
       "      <th>path</th>\n",
       "      <th>links</th>\n",
       "    </tr>\n",
       "  </thead>\n",
       "  <tbody>\n",
       "    <tr>\n",
       "      <td>11144</td>\n",
       "      <td>1585</td>\n",
       "      <td>5981</td>\n",
       "      <td>2005-12-31</td>\n",
       "      <td>2005</td>\n",
       "      <td>12</td>\n",
       "      <td>4</td>\n",
       "      <td>10-K</td>\n",
       "      <td>2006-03-16</td>\n",
       "      <td>2005-12-31</td>\n",
       "      <td>0001193125-06-056761</td>\n",
       "      <td>1</td>\n",
       "      <td>1</td>\n",
       "      <td></td>\n",
       "      <td><a href='ftp://ftp.sec.gov/edgar/data/5981/0001193125-06-056761.txt' target=_blank>FTP</a><a href='http://www.sec.gov/Archives/edgar/data/5981/0001193125-06-056761-index.htm' target=_blank>HTML</a></td>\n",
       "    </tr>\n",
       "    <tr>\n",
       "      <td>38746</td>\n",
       "      <td>1618</td>\n",
       "      <td>6207</td>\n",
       "      <td>2014-04-30</td>\n",
       "      <td>2013</td>\n",
       "      <td>4</td>\n",
       "      <td>4</td>\n",
       "      <td>10-K</td>\n",
       "      <td>2014-07-29</td>\n",
       "      <td>2014-04-30</td>\n",
       "      <td>0001144204-14-045520</td>\n",
       "      <td>1</td>\n",
       "      <td>1</td>\n",
       "      <td></td>\n",
       "      <td><a href='ftp://ftp.sec.gov/edgar/data/6207/0001144204-14-045520.txt' target=_blank>FTP</a><a href='http://www.sec.gov/Archives/edgar/data/6207/0001144204-14-045520-index.htm' target=_blank>HTML</a></td>\n",
       "    </tr>\n",
       "    <tr>\n",
       "      <td>14219</td>\n",
       "      <td>1634</td>\n",
       "      <td>6292</td>\n",
       "      <td>2007-12-31</td>\n",
       "      <td>2007</td>\n",
       "      <td>12</td>\n",
       "      <td>4</td>\n",
       "      <td>10-K</td>\n",
       "      <td>2008-03-05</td>\n",
       "      <td>2007-12-29</td>\n",
       "      <td>0000006292-08-000018</td>\n",
       "      <td>1</td>\n",
       "      <td>0</td>\n",
       "      <td></td>\n",
       "      <td><a href='ftp://ftp.sec.gov/edgar/data/6292/0000006292-08-000018.txt' target=_blank>FTP</a><a href='http://www.sec.gov/Archives/edgar/data/6292/0000006292-08-000018-index.htm' target=_blank>HTML</a></td>\n",
       "    </tr>\n",
       "    <tr>\n",
       "      <td>63503</td>\n",
       "      <td>2870</td>\n",
       "      <td>18808</td>\n",
       "      <td>2010-12-31</td>\n",
       "      <td>2010</td>\n",
       "      <td>12</td>\n",
       "      <td>4</td>\n",
       "      <td>10-K</td>\n",
       "      <td>2011-03-15</td>\n",
       "      <td>2010-12-31</td>\n",
       "      <td>0000018808-11-000007</td>\n",
       "      <td>1</td>\n",
       "      <td>0</td>\n",
       "      <td></td>\n",
       "      <td><a href='ftp://ftp.sec.gov/edgar/data/18808/0000018808-11-000007.txt' target=_blank>FTP</a><a href='http://www.sec.gov/Archives/edgar/data/18808/0000018808-11-000007-index.htm' target=_blank>HTML</a></td>\n",
       "    </tr>\n",
       "    <tr>\n",
       "      <td>63503</td>\n",
       "      <td>2870</td>\n",
       "      <td>18808</td>\n",
       "      <td>2011-12-31</td>\n",
       "      <td>2011</td>\n",
       "      <td>12</td>\n",
       "      <td>4</td>\n",
       "      <td>10-K</td>\n",
       "      <td>2012-03-14</td>\n",
       "      <td>2011-12-31</td>\n",
       "      <td>0001140361-12-015364</td>\n",
       "      <td>1</td>\n",
       "      <td>0</td>\n",
       "      <td></td>\n",
       "      <td><a href='ftp://ftp.sec.gov/edgar/data/18808/0001140361-12-015364.txt' target=_blank>FTP</a><a href='http://www.sec.gov/Archives/edgar/data/18808/0001140361-12-015364-index.htm' target=_blank>HTML</a></td>\n",
       "    </tr>\n",
       "  </tbody>\n",
       "</table>"
      ]
     },
     "metadata": {},
     "output_type": "display_data"
    }
   ],
   "source": [
    "linkhead(df[(df.starts == 1) & df.path.isnull() & (df.cik > 4447)].sort_values('cik datadate'.split()))"
   ]
  },
  {
   "cell_type": "code",
   "execution_count": 228,
   "metadata": {},
   "outputs": [
    {
     "data": {
      "text/html": [
       "<table border=\"1\" class=\"dataframe\">\n",
       "  <thead>\n",
       "    <tr style=\"text-align: right;\">\n",
       "      <th>permno</th>\n",
       "      <th>gvkey</th>\n",
       "      <th>cik</th>\n",
       "      <th>datadate</th>\n",
       "      <th>fyearq</th>\n",
       "      <th>fyr</th>\n",
       "      <th>fqtr</th>\n",
       "      <th>form</th>\n",
       "      <th>filedate</th>\n",
       "      <th>period</th>\n",
       "      <th>accession</th>\n",
       "      <th>starts</th>\n",
       "      <th>ends</th>\n",
       "      <th>path</th>\n",
       "      <th>links</th>\n",
       "    </tr>\n",
       "  </thead>\n",
       "  <tbody>\n",
       "    <tr>\n",
       "      <td>63503</td>\n",
       "      <td>2870</td>\n",
       "      <td>18808</td>\n",
       "      <td>2005-12-31</td>\n",
       "      <td>2005</td>\n",
       "      <td>12</td>\n",
       "      <td>4</td>\n",
       "      <td>10-K</td>\n",
       "      <td>2006-03-31</td>\n",
       "      <td>2005-12-31</td>\n",
       "      <td>0000018808-06-000043</td>\n",
       "      <td></td>\n",
       "      <td></td>\n",
       "      <td></td>\n",
       "      <td><a href='ftp://ftp.sec.gov/edgar/data/18808/0000018808-06-000043.txt' target=_blank>FTP</a><a href='http://www.sec.gov/Archives/edgar/data/18808/0000018808-06-000043-index.htm' target=_blank>HTML</a></td>\n",
       "    </tr>\n",
       "    <tr>\n",
       "      <td>63503</td>\n",
       "      <td>2870</td>\n",
       "      <td>18808</td>\n",
       "      <td>2006-12-31</td>\n",
       "      <td>2006</td>\n",
       "      <td>12</td>\n",
       "      <td>4</td>\n",
       "      <td>10-K</td>\n",
       "      <td>2007-03-15</td>\n",
       "      <td>2006-12-31</td>\n",
       "      <td>0000018808-07-000013</td>\n",
       "      <td>0</td>\n",
       "      <td>0</td>\n",
       "      <td></td>\n",
       "      <td><a href='ftp://ftp.sec.gov/edgar/data/18808/0000018808-07-000013.txt' target=_blank>FTP</a><a href='http://www.sec.gov/Archives/edgar/data/18808/0000018808-07-000013-index.htm' target=_blank>HTML</a></td>\n",
       "    </tr>\n",
       "    <tr>\n",
       "      <td>63503</td>\n",
       "      <td>2870</td>\n",
       "      <td>18808</td>\n",
       "      <td>2007-12-31</td>\n",
       "      <td>2007</td>\n",
       "      <td>12</td>\n",
       "      <td>4</td>\n",
       "      <td>10-K</td>\n",
       "      <td>2008-03-11</td>\n",
       "      <td>2007-12-31</td>\n",
       "      <td>0000018808-08-000036</td>\n",
       "      <td>0</td>\n",
       "      <td>0</td>\n",
       "      <td></td>\n",
       "      <td><a href='ftp://ftp.sec.gov/edgar/data/18808/0000018808-08-000036.txt' target=_blank>FTP</a><a href='http://www.sec.gov/Archives/edgar/data/18808/0000018808-08-000036-index.htm' target=_blank>HTML</a></td>\n",
       "    </tr>\n",
       "    <tr>\n",
       "      <td>63503</td>\n",
       "      <td>2870</td>\n",
       "      <td>18808</td>\n",
       "      <td>2008-12-31</td>\n",
       "      <td>2008</td>\n",
       "      <td>12</td>\n",
       "      <td>4</td>\n",
       "      <td>10-K</td>\n",
       "      <td>2009-03-12</td>\n",
       "      <td>2008-12-31</td>\n",
       "      <td>0000018808-09-000006</td>\n",
       "      <td>1</td>\n",
       "      <td>1</td>\n",
       "      <td>0000018808_2009-03-12_0000018808-09-000006.html</td>\n",
       "      <td><a href='ftp://ftp.sec.gov/edgar/data/18808/0000018808-09-000006.txt' target=_blank>FTP</a><a href='http://www.sec.gov/Archives/edgar/data/18808/0000018808-09-000006-index.htm' target=_blank>HTML</a></td>\n",
       "    </tr>\n",
       "    <tr>\n",
       "      <td>63503</td>\n",
       "      <td>2870</td>\n",
       "      <td>18808</td>\n",
       "      <td>2009-12-31</td>\n",
       "      <td>2009</td>\n",
       "      <td>12</td>\n",
       "      <td>4</td>\n",
       "      <td>10-K</td>\n",
       "      <td>2010-03-15</td>\n",
       "      <td>2009-12-31</td>\n",
       "      <td>0000018808-10-000006</td>\n",
       "      <td>1</td>\n",
       "      <td>1</td>\n",
       "      <td>0000018808_2010-03-15_0000018808-10-000006.html</td>\n",
       "      <td><a href='ftp://ftp.sec.gov/edgar/data/18808/0000018808-10-000006.txt' target=_blank>FTP</a><a href='http://www.sec.gov/Archives/edgar/data/18808/0000018808-10-000006-index.htm' target=_blank>HTML</a></td>\n",
       "    </tr>\n",
       "    <tr>\n",
       "      <td>63503</td>\n",
       "      <td>2870</td>\n",
       "      <td>18808</td>\n",
       "      <td>2010-12-31</td>\n",
       "      <td>2010</td>\n",
       "      <td>12</td>\n",
       "      <td>4</td>\n",
       "      <td>10-K</td>\n",
       "      <td>2011-03-15</td>\n",
       "      <td>2010-12-31</td>\n",
       "      <td>0000018808-11-000007</td>\n",
       "      <td>1</td>\n",
       "      <td>0</td>\n",
       "      <td></td>\n",
       "      <td><a href='ftp://ftp.sec.gov/edgar/data/18808/0000018808-11-000007.txt' target=_blank>FTP</a><a href='http://www.sec.gov/Archives/edgar/data/18808/0000018808-11-000007-index.htm' target=_blank>HTML</a></td>\n",
       "    </tr>\n",
       "    <tr>\n",
       "      <td>63503</td>\n",
       "      <td>2870</td>\n",
       "      <td>18808</td>\n",
       "      <td>2011-12-31</td>\n",
       "      <td>2011</td>\n",
       "      <td>12</td>\n",
       "      <td>4</td>\n",
       "      <td>10-K</td>\n",
       "      <td>2012-03-14</td>\n",
       "      <td>2011-12-31</td>\n",
       "      <td>0001140361-12-015364</td>\n",
       "      <td>1</td>\n",
       "      <td>0</td>\n",
       "      <td></td>\n",
       "      <td><a href='ftp://ftp.sec.gov/edgar/data/18808/0001140361-12-015364.txt' target=_blank>FTP</a><a href='http://www.sec.gov/Archives/edgar/data/18808/0001140361-12-015364-index.htm' target=_blank>HTML</a></td>\n",
       "    </tr>\n",
       "  </tbody>\n",
       "</table>"
      ]
     },
     "metadata": {},
     "output_type": "display_data"
    }
   ],
   "source": [
    "linkhead(df[df.cik == 18808], n=15)"
   ]
  },
  {
   "cell_type": "code",
   "execution_count": 229,
   "metadata": {},
   "outputs": [
    {
     "data": {
      "text/plain": [
       "'/data/storage/edgar/feeds/00/00/01/88/08/0000018808-08-000036.txt'"
      ]
     },
     "execution_count": 229,
     "metadata": {},
     "output_type": "execute_result"
    }
   ],
   "source": [
    "src_fname = localstore.get_filing_path(18808, '0000018808-08-000036')\n",
    "src_fname"
   ]
  },
  {
   "cell_type": "code",
   "execution_count": 230,
   "metadata": {
    "collapsed": true
   },
   "outputs": [],
   "source": [
    "rtxt = forms.get_form(src_fname)"
   ]
  },
  {
   "cell_type": "code",
   "execution_count": 231,
   "metadata": {},
   "outputs": [
    {
     "data": {
      "text/plain": [
       "(647725, 471395)"
      ]
     },
     "execution_count": 231,
     "metadata": {},
     "output_type": "execute_result"
    }
   ],
   "source": [
    "txt = htmlparse.convert_html_to_text(rtxt)\n",
    "len(rtxt), len(txt)"
   ]
  },
  {
   "cell_type": "code",
   "execution_count": 232,
   "metadata": {
    "collapsed": true
   },
   "outputs": [],
   "source": [
    "soup = BeautifulSoup(rtxt, 'lxml')"
   ]
  },
  {
   "cell_type": "code",
   "execution_count": 234,
   "metadata": {},
   "outputs": [
    {
     "name": "stdout",
     "output_type": "stream",
     "text": [
      "\n",
      "Item 1A\n",
      "\n",
      "Item 1B\n",
      "\n",
      "Item 2.\n",
      "Item 1A.   Risk Factors \n",
      "Item 1B.   Unresolved Staff Comments\n",
      "Item 2.   Properties\n"
     ]
    },
    {
     "data": {
      "text/plain": [
       "(0, 0)"
      ]
     },
     "execution_count": 234,
     "metadata": {},
     "output_type": "execute_result"
    }
   ],
   "source": [
    "starts, ends = find_items(soup, debug=True)\n",
    "len(starts), len(ends)"
   ]
  },
  {
   "cell_type": "code",
   "execution_count": 212,
   "metadata": {},
   "outputs": [
    {
     "data": {
      "text/plain": [
       "([<tr valign=\"top\">\n",
       "  <td>\n",
       "  <b><font style=\"font-family: 'Times New Roman', Times\">ITEM 1A. </font></b>\n",
       "  </td>\n",
       "  <td>\n",
       "  <b><font style=\"font-family: 'Times New Roman', Times\">RISK\n",
       "      FACTORS</font></b>\n",
       "  </td>\n",
       "  </tr>], [<tr valign=\"top\">\n",
       "  <td>\n",
       "  <b><font style=\"font-family: 'Times New Roman', Times\">ITEM 1B. </font></b>\n",
       "  </td>\n",
       "  <td>\n",
       "  <b><font style=\"font-family: 'Times New Roman', Times\">UNRESOLVED\n",
       "      SEC STAFF COMMENTS</font></b>\n",
       "  </td>\n",
       "  </tr>])"
      ]
     },
     "execution_count": 212,
     "metadata": {},
     "output_type": "execute_result"
    }
   ],
   "source": [
    "starts, ends"
   ]
  },
  {
   "cell_type": "code",
   "execution_count": 213,
   "metadata": {
    "collapsed": true
   },
   "outputs": [],
   "source": [
    "prtxt = soup.prettify()\n",
    "istart,iend = prtxt.find('<STARTHERE>'),prtxt.find('</ENDHERE>')"
   ]
  },
  {
   "cell_type": "code",
   "execution_count": 214,
   "metadata": {},
   "outputs": [
    {
     "data": {
      "text/plain": [
       "30535"
      ]
     },
     "execution_count": 214,
     "metadata": {},
     "output_type": "execute_result"
    }
   ],
   "source": [
    "if len(starts) == 1 and len(ends) == 1 and istart > 0 and iend > 0:\n",
    "    onea = prtxt[istart:iend+len('</ENDHERE>')]\n",
    "len(onea)"
   ]
  },
  {
   "cell_type": "code",
   "execution_count": null,
   "metadata": {
    "collapsed": true
   },
   "outputs": [],
   "source": [
    "display_html(onea, raw=True)"
   ]
  },
  {
   "cell_type": "code",
   "execution_count": 202,
   "metadata": {},
   "outputs": [
    {
     "data": {
      "text/plain": [
       "'/data/D1A/K1A/0000004187_2015-04-15_0001628280-15-002303.html'"
      ]
     },
     "execution_count": 202,
     "metadata": {},
     "output_type": "execute_result"
    }
   ],
   "source": [
    "dest_fname"
   ]
  },
  {
   "cell_type": "code",
   "execution_count": null,
   "metadata": {
    "collapsed": true
   },
   "outputs": [],
   "source": []
  },
  {
   "cell_type": "code",
   "execution_count": 177,
   "metadata": {},
   "outputs": [
    {
     "data": {
      "text/html": [
       "<div>\n",
       "<table border=\"1\" class=\"dataframe\">\n",
       "  <thead>\n",
       "    <tr style=\"text-align: right;\">\n",
       "      <th></th>\n",
       "      <th>permno</th>\n",
       "      <th>gvkey</th>\n",
       "      <th>cik</th>\n",
       "      <th>fyearq</th>\n",
       "      <th>fyr</th>\n",
       "      <th>fqtr</th>\n",
       "      <th>starts</th>\n",
       "      <th>ends</th>\n",
       "    </tr>\n",
       "  </thead>\n",
       "  <tbody>\n",
       "    <tr>\n",
       "      <th>count</th>\n",
       "      <td>42509.000</td>\n",
       "      <td>42509.000</td>\n",
       "      <td>42509.000</td>\n",
       "      <td>42509.000</td>\n",
       "      <td>42509.000</td>\n",
       "      <td>42509.000</td>\n",
       "      <td>41213.000</td>\n",
       "      <td>41213.000</td>\n",
       "    </tr>\n",
       "    <tr>\n",
       "      <th>mean</th>\n",
       "      <td>69759.845</td>\n",
       "      <td>72353.076</td>\n",
       "      <td>874091.315</td>\n",
       "      <td>2009.347</td>\n",
       "      <td>10.343</td>\n",
       "      <td>3.994</td>\n",
       "      <td>0.868</td>\n",
       "      <td>0.866</td>\n",
       "    </tr>\n",
       "    <tr>\n",
       "      <th>std</th>\n",
       "      <td>27230.666</td>\n",
       "      <td>68125.615</td>\n",
       "      <td>426812.811</td>\n",
       "      <td>2.951</td>\n",
       "      <td>3.177</td>\n",
       "      <td>0.127</td>\n",
       "      <td>0.676</td>\n",
       "      <td>0.367</td>\n",
       "    </tr>\n",
       "    <tr>\n",
       "      <th>min</th>\n",
       "      <td>10001.000</td>\n",
       "      <td>1004.000</td>\n",
       "      <td>20.000</td>\n",
       "      <td>2004.000</td>\n",
       "      <td>1.000</td>\n",
       "      <td>1.000</td>\n",
       "      <td>0.000</td>\n",
       "      <td>0.000</td>\n",
       "    </tr>\n",
       "    <tr>\n",
       "      <th>25%</th>\n",
       "      <td>58640.000</td>\n",
       "      <td>12519.000</td>\n",
       "      <td>751978.000</td>\n",
       "      <td>2007.000</td>\n",
       "      <td>10.000</td>\n",
       "      <td>4.000</td>\n",
       "      <td>1.000</td>\n",
       "      <td>1.000</td>\n",
       "    </tr>\n",
       "    <tr>\n",
       "      <th>50%</th>\n",
       "      <td>82508.000</td>\n",
       "      <td>31170.000</td>\n",
       "      <td>931148.000</td>\n",
       "      <td>2009.000</td>\n",
       "      <td>12.000</td>\n",
       "      <td>4.000</td>\n",
       "      <td>1.000</td>\n",
       "      <td>1.000</td>\n",
       "    </tr>\n",
       "    <tr>\n",
       "      <th>75%</th>\n",
       "      <td>89399.000</td>\n",
       "      <td>142382.000</td>\n",
       "      <td>1135185.000</td>\n",
       "      <td>2012.000</td>\n",
       "      <td>12.000</td>\n",
       "      <td>4.000</td>\n",
       "      <td>1.000</td>\n",
       "      <td>1.000</td>\n",
       "    </tr>\n",
       "    <tr>\n",
       "      <th>max</th>\n",
       "      <td>93436.000</td>\n",
       "      <td>317264.000</td>\n",
       "      <td>1629210.000</td>\n",
       "      <td>2015.000</td>\n",
       "      <td>12.000</td>\n",
       "      <td>4.000</td>\n",
       "      <td>25.000</td>\n",
       "      <td>2.000</td>\n",
       "    </tr>\n",
       "  </tbody>\n",
       "</table>\n",
       "</div>"
      ],
      "text/plain": [
       "          permno       gvkey          cik     fyearq        fyr       fqtr  \\\n",
       "count  42509.000   42509.000    42509.000  42509.000  42509.000  42509.000   \n",
       "mean   69759.845   72353.076   874091.315   2009.347     10.343      3.994   \n",
       "std    27230.666   68125.615   426812.811      2.951      3.177      0.127   \n",
       "min    10001.000    1004.000       20.000   2004.000      1.000      1.000   \n",
       "25%    58640.000   12519.000   751978.000   2007.000     10.000      4.000   \n",
       "50%    82508.000   31170.000   931148.000   2009.000     12.000      4.000   \n",
       "75%    89399.000  142382.000  1135185.000   2012.000     12.000      4.000   \n",
       "max    93436.000  317264.000  1629210.000   2015.000     12.000      4.000   \n",
       "\n",
       "          starts       ends  \n",
       "count  41213.000  41213.000  \n",
       "mean       0.868      0.866  \n",
       "std        0.676      0.367  \n",
       "min        0.000      0.000  \n",
       "25%        1.000      1.000  \n",
       "50%        1.000      1.000  \n",
       "75%        1.000      1.000  \n",
       "max       25.000      2.000  "
      ]
     },
     "execution_count": 177,
     "metadata": {},
     "output_type": "execute_result"
    }
   ],
   "source": [
    "df.describe()"
   ]
  },
  {
   "cell_type": "code",
   "execution_count": null,
   "metadata": {
    "collapsed": true
   },
   "outputs": [],
   "source": []
  },
  {
   "cell_type": "code",
   "execution_count": null,
   "metadata": {
    "collapsed": true
   },
   "outputs": [],
   "source": []
  },
  {
   "cell_type": "markdown",
   "metadata": {},
   "source": [
    "# Now run it for full sample."
   ]
  },
  {
   "cell_type": "markdown",
   "metadata": {},
   "source": [
    "c = {}"
   ]
  },
  {
   "cell_type": "markdown",
   "metadata": {},
   "source": [
    "fs = existing_files.copy()"
   ]
  },
  {
   "cell_type": "markdown",
   "metadata": {
    "collapsed": true
   },
   "source": [
    "i = 0\n",
    "prog = ipywidgets.FloatProgress(min=0, max=len(fs))\n",
    "display(prog)\n",
    "\n",
    "while len(fs) > 0:\n",
    "    f = fs.pop(0)\n",
    "    i += 1\n",
    "    if not i%100:\n",
    "        prog.value = i\n",
    "    p = os.path.join(DATA_ROOT, 'K1A/', f)\n",
    "    with open(p) as fh:\n",
    "        html = fh.read()\n",
    "    s = BeautifulSoup(html, 'lxml')\n",
    "    for tag in s.find_all(text=RE_item):\n",
    "        for parent_tag in tag.parents:\n",
    "            if parent_tag.name.lower() in DIVIDER_STYLES:\n",
    "                break\n",
    "        else:\n",
    "            continue\n",
    "        break\n",
    "    else:\n",
    "        continue\n",
    "    t = re_clean(parent_tag.get_text()).strip().lower()\n",
    "    if t not in c:\n",
    "        c[t] = 0\n",
    "    c[t]+=1\n",
    "#     if i > 2000:\n",
    "#         break"
   ]
  },
  {
   "cell_type": "code",
   "execution_count": null,
   "metadata": {
    "collapsed": true
   },
   "outputs": [],
   "source": [
    "c"
   ]
  },
  {
   "cell_type": "code",
   "execution_count": null,
   "metadata": {
    "collapsed": true
   },
   "outputs": [],
   "source": []
  },
  {
   "cell_type": "code",
   "execution_count": null,
   "metadata": {
    "collapsed": true
   },
   "outputs": [],
   "source": []
  },
  {
   "cell_type": "code",
   "execution_count": null,
   "metadata": {
    "collapsed": true
   },
   "outputs": [],
   "source": []
  }
 ],
 "metadata": {
  "anaconda-cloud": {},
  "kernelspec": {
   "display_name": "Python 3",
   "language": "python",
   "name": "python3"
  },
  "language_info": {
   "codemirror_mode": {
    "name": "ipython",
    "version": 3
   },
   "file_extension": ".py",
   "mimetype": "text/x-python",
   "name": "python",
   "nbconvert_exporter": "python",
   "pygments_lexer": "ipython3",
   "version": "3.6.2"
  },
  "notify_time": "5"
 },
 "nbformat": 4,
 "nbformat_minor": 1
}
